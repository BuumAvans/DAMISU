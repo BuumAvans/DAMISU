{
 "cells": [
  {
   "cell_type": "markdown",
   "metadata": {},
   "source": [
    "# HW 3: Classification, Evaluation, and Deployment"
   ]
  },
  {
   "cell_type": "markdown",
   "metadata": {},
   "source": [
    "In this homework, you will experience a complete machine learning cycle from data preparation to deployment. You will prepare/preprocess a dataset, make a model, evaluate models to find the best fit, and deploy it to a simple web page. Our main objective is to make you try classification and evaluation methods, so we will only apply essential data preprocessing techniques but mainly focus on classification and evaluation."
   ]
  },
  {
   "cell_type": "markdown",
   "metadata": {},
   "source": [
    "We will use the **Adult** dataset from the UCI repository and more information about the data is available [here](http://archive.ics.uci.edu/ml/datasets/Adult). Since we have removed and changed the dataset for a grading purpose, use the one that we provide on ilearn."
   ]
  },
  {
   "cell_type": "markdown",
   "metadata": {},
   "source": [
    "The dataset contains the information to check whether income exceeds $50K/yr based on census data. The datasets consist of 14 attributes and one binary class variable:"
   ]
  },
  {
   "cell_type": "markdown",
   "metadata": {},
   "source": [
    "- income: >50K, <=50K\n",
    "\n",
    "- age: continuous.\n",
    "\n",
    "- workclass: Private, Self-emp-not-inc, Self-emp-inc, Federal-gov, Local-gov, State-gov, Without-pay, Never-worked.\n",
    "\n",
    "- fnlwgt: continuous.\n",
    "\n",
    "- education: Bachelors, Some-college, 11th, HS-grad, Prof-school, Assoc-acdm, Assoc-voc, 9th, 7th-8th, 12th, Masters, 1st-4th, 10th, Doctorate, 5th-6th, Preschool. education-num: continuous.\n",
    "\n",
    "- education-num: continuous.\n",
    "\n",
    "- marital-status: Married-civ-spouse, Divorced, Never-married, Separated, Widowed, Married-spouse-absent, Married-AF-spouse.\n",
    "\n",
    "- occupation: Tech-support, Craft-repair, Other-service, Sales, Exec-managerial, Prof-specialty, Handlers-cleaners, Machine-op-inspct, Adm-clerical, Farming-fishing, Transport-moving, Priv-house-serv, Protective-serv, Armed-Forces.\n",
    "\n",
    "- relationship: Wife, Own-child, Husband, Not-in-family, Other-relative, Unmarried.\n",
    "\n",
    "- race: White, Asian-Pac-Islander, Amer-Indian-Eskimo, Other, Black.\n",
    "\n",
    "- sex: Female, Male.\n",
    "\n",
    "- capital-gain: continuous.\n",
    "\n",
    "- capital-loss: continuous.\n",
    "\n",
    "- hours-per-week: continuous.\n",
    "\n",
    "- native-country: United-States, Cambodia, England, Puerto-Rico, Canada, Germany, Outlying-US(Guam-USVI-etc), India, Japan, Greece, South, China, Cuba, Iran, Honduras, Philippines, Italy, Poland, Jamaica, Vietnam, Mexico, Portugal, Ireland, France, Dominican-Republic, Laos, Ecuador, Taiwan, Haiti, Columbia, Hungary, Guatemala, Nicaragua, Scotland, Thailand, Yugoslavia, El-Salvador, Trinadad&Tobago, Peru, Hong, Holand-Netherlands."
   ]
  },
  {
   "cell_type": "markdown",
   "metadata": {},
   "source": [
    "and we have a binary class which can be `>=50` or `<50`."
   ]
  },
  {
   "cell_type": "markdown",
   "metadata": {},
   "source": [
    "**NOTE**\n",
    "- Unlike the labs, each function you make here will be **graded**, so it is important to *strictly* follow the instruction.\n",
    "- **Import** all necessary libraries yourself whenever needed. Failure to run any code can affect your grade."
   ]
  },
  {
   "cell_type": "markdown",
   "metadata": {},
   "source": [
    "## Contents"
   ]
  },
  {
   "cell_type": "markdown",
   "metadata": {},
   "source": [
    "- **Total points: 6.0 pt**\n",
    "\n",
    "0. Preparation (0.7 pt)\n",
    " - Task 1: Drop missing values (0.2 pt).\n",
    " - Task 2: Assign X and y (0.1 pt).\n",
    " - Task 3: One-hot encoding (0.1 pt).\n",
    " - Task 4: Train test split (0.1 pt).\n",
    " - Task 5: Standardization (0.2 pt).\n",
    "1. Classification (2.9 pt)\n",
    " - Task 6: Random forest (0.5 pt).\n",
    " - Task 7: SVM with diverse kernels (0.4 pt).\n",
    " - Task 8: Decision tree and Random Forest (2.0 pt).\n",
    "2. Evaluation (1.8 pt)\n",
    " - Task 9: Accuracy, Precision, Recall, F1-score (0.3 pt).\n",
    " - Task 10: AUC/AUPRC (0.3 pt).\n",
    " - Task 11: Apply them together with scikit-learn (0.4 pt).\n",
    " - Task 12: Manual implementation of performance metrics (0.8 pt).\n",
    "3. Deployment (0.6 pt)\n",
    " - Task 13: Save models into a file using pickle (0.3 pt).\n",
    " - Task 14: DASH deployment (0.3 pt)."
   ]
  },
  {
   "cell_type": "markdown",
   "metadata": {},
   "source": [
    "# 0. Preparation"
   ]
  },
  {
   "cell_type": "markdown",
   "metadata": {},
   "source": [
    "##### Student information"
   ]
  },
  {
   "cell_type": "markdown",
   "metadata": {},
   "source": [
    "Please provide your information for automatic grading."
   ]
  },
  {
   "cell_type": "code",
   "execution_count": 194,
   "metadata": {},
   "outputs": [],
   "source": [
    "STUD_SUID = 'mava7719'\n",
    "STUD_NAME = 'Max van Noordennen'\n",
    "STUD_EMAIL = 'mava7719@stud.dsv.su.se'"
   ]
  },
  {
   "cell_type": "markdown",
   "metadata": {},
   "source": [
    "#### Basic libraries"
   ]
  },
  {
   "cell_type": "markdown",
   "metadata": {},
   "source": [
    "These libraries will be frequently used throughout the homework. Do not change the block below."
   ]
  },
  {
   "cell_type": "code",
   "execution_count": 195,
   "metadata": {},
   "outputs": [],
   "source": [
    "import pandas as pd\n",
    "import numpy as np\n",
    "import matplotlib.pyplot as plt\n",
    "import pickle\n",
    "RANDOM_STATE = 46458 #Do not change it!\n",
    "np.random.seed(RANDOM_STATE) #Do not change it!"
   ]
  },
  {
   "cell_type": "markdown",
   "metadata": {},
   "source": [
    "#### Load the dataset"
   ]
  },
  {
   "cell_type": "markdown",
   "metadata": {},
   "source": [
    "Use the **Adult** dataset located on ilearn, and load it here using pandas. "
   ]
  },
  {
   "cell_type": "code",
   "execution_count": 196,
   "metadata": {},
   "outputs": [],
   "source": [
    "adult = pd.read_csv(\"datasets/adult.data\", sep=\",\", header=None, skipinitialspace=True)"
   ]
  },
  {
   "cell_type": "markdown",
   "metadata": {},
   "source": [
    "You can run the line below to give the dataframe proper column names."
   ]
  },
  {
   "cell_type": "code",
   "execution_count": 197,
   "metadata": {},
   "outputs": [],
   "source": [
    "adult.columns = ['age', 'workclass', 'fnlwgt', 'education', 'education-num', 'marital-status', 'occupation', 'relationship', 'race',  'sex', 'capital-gain', 'capital-loss', 'hours-per-week', 'native-country', 'income']"
   ]
  },
  {
   "cell_type": "markdown",
   "metadata": {},
   "source": [
    "Here you can find out some basic information by calling *info(), head()*, and *describe()*."
   ]
  },
  {
   "cell_type": "code",
   "execution_count": 198,
   "metadata": {},
   "outputs": [
    {
     "name": "stdout",
     "output_type": "stream",
     "text": [
      "<class 'pandas.core.frame.DataFrame'>\n",
      "RangeIndex: 32561 entries, 0 to 32560\n",
      "Data columns (total 15 columns):\n",
      " #   Column          Non-Null Count  Dtype \n",
      "---  ------          --------------  ----- \n",
      " 0   age             32561 non-null  int64 \n",
      " 1   workclass       32561 non-null  object\n",
      " 2   fnlwgt          32561 non-null  int64 \n",
      " 3   education       32561 non-null  object\n",
      " 4   education-num   32561 non-null  int64 \n",
      " 5   marital-status  32561 non-null  object\n",
      " 6   occupation      32561 non-null  object\n",
      " 7   relationship    32561 non-null  object\n",
      " 8   race            32561 non-null  object\n",
      " 9   sex             32561 non-null  object\n",
      " 10  capital-gain    32561 non-null  int64 \n",
      " 11  capital-loss    32561 non-null  int64 \n",
      " 12  hours-per-week  32561 non-null  int64 \n",
      " 13  native-country  32561 non-null  object\n",
      " 14  income          32561 non-null  object\n",
      "dtypes: int64(6), object(9)\n",
      "memory usage: 3.7+ MB\n"
     ]
    }
   ],
   "source": [
    "adult.info()"
   ]
  },
  {
   "cell_type": "code",
   "execution_count": 199,
   "metadata": {},
   "outputs": [
    {
     "data": {
      "text/html": [
       "<div>\n",
       "<style scoped>\n",
       "    .dataframe tbody tr th:only-of-type {\n",
       "        vertical-align: middle;\n",
       "    }\n",
       "\n",
       "    .dataframe tbody tr th {\n",
       "        vertical-align: top;\n",
       "    }\n",
       "\n",
       "    .dataframe thead th {\n",
       "        text-align: right;\n",
       "    }\n",
       "</style>\n",
       "<table border=\"1\" class=\"dataframe\">\n",
       "  <thead>\n",
       "    <tr style=\"text-align: right;\">\n",
       "      <th></th>\n",
       "      <th>age</th>\n",
       "      <th>workclass</th>\n",
       "      <th>fnlwgt</th>\n",
       "      <th>education</th>\n",
       "      <th>education-num</th>\n",
       "      <th>marital-status</th>\n",
       "      <th>occupation</th>\n",
       "      <th>relationship</th>\n",
       "      <th>race</th>\n",
       "      <th>sex</th>\n",
       "      <th>capital-gain</th>\n",
       "      <th>capital-loss</th>\n",
       "      <th>hours-per-week</th>\n",
       "      <th>native-country</th>\n",
       "      <th>income</th>\n",
       "    </tr>\n",
       "  </thead>\n",
       "  <tbody>\n",
       "    <tr>\n",
       "      <th>0</th>\n",
       "      <td>39</td>\n",
       "      <td>State-gov</td>\n",
       "      <td>77516</td>\n",
       "      <td>Bachelors</td>\n",
       "      <td>13</td>\n",
       "      <td>Never-married</td>\n",
       "      <td>Adm-clerical</td>\n",
       "      <td>Not-in-family</td>\n",
       "      <td>White</td>\n",
       "      <td>Male</td>\n",
       "      <td>2174</td>\n",
       "      <td>0</td>\n",
       "      <td>40</td>\n",
       "      <td>United-States</td>\n",
       "      <td>&lt;=50K</td>\n",
       "    </tr>\n",
       "    <tr>\n",
       "      <th>1</th>\n",
       "      <td>50</td>\n",
       "      <td>Self-emp-not-inc</td>\n",
       "      <td>83311</td>\n",
       "      <td>Bachelors</td>\n",
       "      <td>13</td>\n",
       "      <td>Married-civ-spouse</td>\n",
       "      <td>Exec-managerial</td>\n",
       "      <td>Husband</td>\n",
       "      <td>White</td>\n",
       "      <td>Male</td>\n",
       "      <td>0</td>\n",
       "      <td>0</td>\n",
       "      <td>13</td>\n",
       "      <td>United-States</td>\n",
       "      <td>&lt;=50K</td>\n",
       "    </tr>\n",
       "    <tr>\n",
       "      <th>2</th>\n",
       "      <td>38</td>\n",
       "      <td>Private</td>\n",
       "      <td>215646</td>\n",
       "      <td>HS-grad</td>\n",
       "      <td>9</td>\n",
       "      <td>Divorced</td>\n",
       "      <td>Handlers-cleaners</td>\n",
       "      <td>Not-in-family</td>\n",
       "      <td>White</td>\n",
       "      <td>Male</td>\n",
       "      <td>0</td>\n",
       "      <td>0</td>\n",
       "      <td>40</td>\n",
       "      <td>United-States</td>\n",
       "      <td>&lt;=50K</td>\n",
       "    </tr>\n",
       "    <tr>\n",
       "      <th>3</th>\n",
       "      <td>53</td>\n",
       "      <td>Private</td>\n",
       "      <td>234721</td>\n",
       "      <td>11th</td>\n",
       "      <td>7</td>\n",
       "      <td>Married-civ-spouse</td>\n",
       "      <td>Handlers-cleaners</td>\n",
       "      <td>Husband</td>\n",
       "      <td>Black</td>\n",
       "      <td>Male</td>\n",
       "      <td>0</td>\n",
       "      <td>0</td>\n",
       "      <td>40</td>\n",
       "      <td>United-States</td>\n",
       "      <td>&lt;=50K</td>\n",
       "    </tr>\n",
       "    <tr>\n",
       "      <th>4</th>\n",
       "      <td>28</td>\n",
       "      <td>Private</td>\n",
       "      <td>338409</td>\n",
       "      <td>Bachelors</td>\n",
       "      <td>13</td>\n",
       "      <td>Married-civ-spouse</td>\n",
       "      <td>Prof-specialty</td>\n",
       "      <td>Wife</td>\n",
       "      <td>Black</td>\n",
       "      <td>Female</td>\n",
       "      <td>0</td>\n",
       "      <td>0</td>\n",
       "      <td>40</td>\n",
       "      <td>Cuba</td>\n",
       "      <td>&lt;=50K</td>\n",
       "    </tr>\n",
       "  </tbody>\n",
       "</table>\n",
       "</div>"
      ],
      "text/plain": [
       "   age         workclass  fnlwgt  education  education-num  \\\n",
       "0   39         State-gov   77516  Bachelors             13   \n",
       "1   50  Self-emp-not-inc   83311  Bachelors             13   \n",
       "2   38           Private  215646    HS-grad              9   \n",
       "3   53           Private  234721       11th              7   \n",
       "4   28           Private  338409  Bachelors             13   \n",
       "\n",
       "       marital-status         occupation   relationship   race     sex  \\\n",
       "0       Never-married       Adm-clerical  Not-in-family  White    Male   \n",
       "1  Married-civ-spouse    Exec-managerial        Husband  White    Male   \n",
       "2            Divorced  Handlers-cleaners  Not-in-family  White    Male   \n",
       "3  Married-civ-spouse  Handlers-cleaners        Husband  Black    Male   \n",
       "4  Married-civ-spouse     Prof-specialty           Wife  Black  Female   \n",
       "\n",
       "   capital-gain  capital-loss  hours-per-week native-country income  \n",
       "0          2174             0              40  United-States  <=50K  \n",
       "1             0             0              13  United-States  <=50K  \n",
       "2             0             0              40  United-States  <=50K  \n",
       "3             0             0              40  United-States  <=50K  \n",
       "4             0             0              40           Cuba  <=50K  "
      ]
     },
     "execution_count": 199,
     "metadata": {},
     "output_type": "execute_result"
    }
   ],
   "source": [
    "adult.head()"
   ]
  },
  {
   "cell_type": "code",
   "execution_count": 200,
   "metadata": {},
   "outputs": [
    {
     "data": {
      "text/html": [
       "<div>\n",
       "<style scoped>\n",
       "    .dataframe tbody tr th:only-of-type {\n",
       "        vertical-align: middle;\n",
       "    }\n",
       "\n",
       "    .dataframe tbody tr th {\n",
       "        vertical-align: top;\n",
       "    }\n",
       "\n",
       "    .dataframe thead th {\n",
       "        text-align: right;\n",
       "    }\n",
       "</style>\n",
       "<table border=\"1\" class=\"dataframe\">\n",
       "  <thead>\n",
       "    <tr style=\"text-align: right;\">\n",
       "      <th></th>\n",
       "      <th>age</th>\n",
       "      <th>fnlwgt</th>\n",
       "      <th>education-num</th>\n",
       "      <th>capital-gain</th>\n",
       "      <th>capital-loss</th>\n",
       "      <th>hours-per-week</th>\n",
       "    </tr>\n",
       "  </thead>\n",
       "  <tbody>\n",
       "    <tr>\n",
       "      <th>count</th>\n",
       "      <td>32561.000000</td>\n",
       "      <td>3.256100e+04</td>\n",
       "      <td>32561.000000</td>\n",
       "      <td>32561.000000</td>\n",
       "      <td>32561.000000</td>\n",
       "      <td>32561.000000</td>\n",
       "    </tr>\n",
       "    <tr>\n",
       "      <th>mean</th>\n",
       "      <td>38.581647</td>\n",
       "      <td>1.897784e+05</td>\n",
       "      <td>10.080679</td>\n",
       "      <td>1077.648844</td>\n",
       "      <td>87.303830</td>\n",
       "      <td>40.437456</td>\n",
       "    </tr>\n",
       "    <tr>\n",
       "      <th>std</th>\n",
       "      <td>13.640433</td>\n",
       "      <td>1.055500e+05</td>\n",
       "      <td>2.572720</td>\n",
       "      <td>7385.292085</td>\n",
       "      <td>402.960219</td>\n",
       "      <td>12.347429</td>\n",
       "    </tr>\n",
       "    <tr>\n",
       "      <th>min</th>\n",
       "      <td>17.000000</td>\n",
       "      <td>1.228500e+04</td>\n",
       "      <td>1.000000</td>\n",
       "      <td>0.000000</td>\n",
       "      <td>0.000000</td>\n",
       "      <td>1.000000</td>\n",
       "    </tr>\n",
       "    <tr>\n",
       "      <th>25%</th>\n",
       "      <td>28.000000</td>\n",
       "      <td>1.178270e+05</td>\n",
       "      <td>9.000000</td>\n",
       "      <td>0.000000</td>\n",
       "      <td>0.000000</td>\n",
       "      <td>40.000000</td>\n",
       "    </tr>\n",
       "    <tr>\n",
       "      <th>50%</th>\n",
       "      <td>37.000000</td>\n",
       "      <td>1.783560e+05</td>\n",
       "      <td>10.000000</td>\n",
       "      <td>0.000000</td>\n",
       "      <td>0.000000</td>\n",
       "      <td>40.000000</td>\n",
       "    </tr>\n",
       "    <tr>\n",
       "      <th>75%</th>\n",
       "      <td>48.000000</td>\n",
       "      <td>2.370510e+05</td>\n",
       "      <td>12.000000</td>\n",
       "      <td>0.000000</td>\n",
       "      <td>0.000000</td>\n",
       "      <td>45.000000</td>\n",
       "    </tr>\n",
       "    <tr>\n",
       "      <th>max</th>\n",
       "      <td>90.000000</td>\n",
       "      <td>1.484705e+06</td>\n",
       "      <td>16.000000</td>\n",
       "      <td>99999.000000</td>\n",
       "      <td>4356.000000</td>\n",
       "      <td>99.000000</td>\n",
       "    </tr>\n",
       "  </tbody>\n",
       "</table>\n",
       "</div>"
      ],
      "text/plain": [
       "                age        fnlwgt  education-num  capital-gain  capital-loss  \\\n",
       "count  32561.000000  3.256100e+04   32561.000000  32561.000000  32561.000000   \n",
       "mean      38.581647  1.897784e+05      10.080679   1077.648844     87.303830   \n",
       "std       13.640433  1.055500e+05       2.572720   7385.292085    402.960219   \n",
       "min       17.000000  1.228500e+04       1.000000      0.000000      0.000000   \n",
       "25%       28.000000  1.178270e+05       9.000000      0.000000      0.000000   \n",
       "50%       37.000000  1.783560e+05      10.000000      0.000000      0.000000   \n",
       "75%       48.000000  2.370510e+05      12.000000      0.000000      0.000000   \n",
       "max       90.000000  1.484705e+06      16.000000  99999.000000   4356.000000   \n",
       "\n",
       "       hours-per-week  \n",
       "count    32561.000000  \n",
       "mean        40.437456  \n",
       "std         12.347429  \n",
       "min          1.000000  \n",
       "25%         40.000000  \n",
       "50%         40.000000  \n",
       "75%         45.000000  \n",
       "max         99.000000  "
      ]
     },
     "execution_count": 200,
     "metadata": {},
     "output_type": "execute_result"
    }
   ],
   "source": [
    "adult.describe()"
   ]
  },
  {
   "cell_type": "markdown",
   "metadata": {},
   "source": [
    "#### Task 1: Drop missing values (0.2 pt)"
   ]
  },
  {
   "cell_type": "markdown",
   "metadata": {},
   "source": [
    "It seems like there is no null data. However, if you read the description of the dataset, it says that there are missing parts represented as \"?\". You can count them by using the same technique we used for checking nulls in the previous lab. We have missing values in specific columns only, and it is about 5% of data records."
   ]
  },
  {
   "cell_type": "markdown",
   "metadata": {},
   "source": [
    "- Task 1-1: Count how many null values **each column** has and save it into the variable `null_values` (0.1 pt)."
   ]
  },
  {
   "cell_type": "code",
   "execution_count": 201,
   "metadata": {},
   "outputs": [],
   "source": [
    "null_values = adult.isnull().sum()"
   ]
  },
  {
   "cell_type": "code",
   "execution_count": 202,
   "metadata": {},
   "outputs": [
    {
     "name": "stdout",
     "output_type": "stream",
     "text": [
      "age               0\n",
      "workclass         0\n",
      "fnlwgt            0\n",
      "education         0\n",
      "education-num     0\n",
      "marital-status    0\n",
      "occupation        0\n",
      "relationship      0\n",
      "race              0\n",
      "sex               0\n",
      "capital-gain      0\n",
      "capital-loss      0\n",
      "hours-per-week    0\n",
      "native-country    0\n",
      "income            0\n",
      "dtype: int64\n"
     ]
    }
   ],
   "source": [
    "print(null_values)"
   ]
  },
  {
   "cell_type": "markdown",
   "metadata": {},
   "source": [
    "There are many ways to handle missing values, such as imputation or putting median/mean values, but we will practice the simplest way: removing the rows with missing values.\n",
    "\n",
    "- Task 1-2: Complete the function below which removes any rows with missing values (0.1 pt)."
   ]
  },
  {
   "cell_type": "code",
   "execution_count": 203,
   "metadata": {},
   "outputs": [],
   "source": [
    "def drop_missing_values(df, miss):\n",
    "    \"\"\"\n",
    "    Input: \n",
    "      df: the dataframe (adult in our case)\n",
    "      miss: a character to represent missing value (\"?\" in our case)\n",
    "      \n",
    "    Output: the dataframe without the missing values\n",
    "\n",
    "    Step 1: Replace the value 'miss' with np.nan.\n",
    "    Step 2: Drop the nan values and store the result in data_dropped.\n",
    "    Step 3: Return data_dropped\n",
    "    \n",
    "    \"\"\"\n",
    "\n",
    "    data_dropped = df.replace(miss, np.nan).dropna()\n",
    "    return data_dropped\n"
   ]
  },
  {
   "cell_type": "markdown",
   "metadata": {},
   "source": [
    "- Apply your function to our dataset `adult` and save the result to `adult_dropped`. This part should be done correctly to get the point. You need to put our dataset and the indicator for missing values."
   ]
  },
  {
   "cell_type": "code",
   "execution_count": 204,
   "metadata": {},
   "outputs": [],
   "source": [
    "adult_dropped = drop_missing_values(adult, \"?\")"
   ]
  },
  {
   "cell_type": "markdown",
   "metadata": {},
   "source": [
    "- The output of the function should have the same attributes but only less number of the rows. Check how many rows are removed. Your dataset should have 30,162 rows!"
   ]
  },
  {
   "cell_type": "code",
   "execution_count": 205,
   "metadata": {},
   "outputs": [
    {
     "data": {
      "text/plain": [
       "(30162, 15)"
      ]
     },
     "execution_count": 205,
     "metadata": {},
     "output_type": "execute_result"
    }
   ],
   "source": [
    "adult_dropped.shape"
   ]
  },
  {
   "cell_type": "markdown",
   "metadata": {},
   "source": [
    "#### Task 2: Assign X and y (0.1 pt)"
   ]
  },
  {
   "cell_type": "markdown",
   "metadata": {},
   "source": [
    "Then let's split our dataset into two parts (`X` for attributes and `y` for labels) to use scikit-learn's various methods.\n",
    "- Use `adult_dropped`.\n",
    "- `X` should have all the attributes without the labels (the last column).\n",
    "- `y` should be a Pandas Series only with the labels."
   ]
  },
  {
   "cell_type": "code",
   "execution_count": 206,
   "metadata": {},
   "outputs": [],
   "source": [
    "X = adult_dropped.drop('income', axis=1)\n",
    "y = adult_dropped['income']"
   ]
  },
  {
   "cell_type": "markdown",
   "metadata": {},
   "source": [
    "- Check the type and size here. We expect (30162, 14) for attributes (`X`) and (30162, ) for labels (`y`)."
   ]
  },
  {
   "cell_type": "code",
   "execution_count": 207,
   "metadata": {},
   "outputs": [
    {
     "data": {
      "text/plain": [
       "((30162, 14), (30162,), pandas.core.frame.DataFrame, pandas.core.series.Series)"
      ]
     },
     "execution_count": 207,
     "metadata": {},
     "output_type": "execute_result"
    }
   ],
   "source": [
    "(X.shape, y.shape, type(X), type(y))"
   ]
  },
  {
   "cell_type": "markdown",
   "metadata": {},
   "source": [
    "#### Task 3: One-hot encoding (0.1 pt)"
   ]
  },
  {
   "cell_type": "markdown",
   "metadata": {},
   "source": [
    "Unfortunately, scikit-learn does not support categorical attributes very well even for decision tree, and that means we need to convert them into reasonal form of numeric data to fit the algorithms. There is one way called one-hot encoding, which transforms the categorical data into multiple numeric columns for each possible value. There are various ways to apply this, especially using [scikit-learn](https://scikit-learn.org/stable/modules/generated/sklearn.preprocessing.OneHotEncoder.html) or [pandas](https://pandas.pydata.org/docs/reference/api/pandas.get_dummies.html) but here we will use the pandas function to keep the dataframe structure.\n",
    "\n",
    "- Finish one_hot_encoding function which applies one-hot encoding to a given dataframe.\n"
   ]
  },
  {
   "cell_type": "code",
   "execution_count": 208,
   "metadata": {},
   "outputs": [],
   "source": [
    "def one_hot_encoding(df):\n",
    "    \"\"\"\n",
    "    Input:\n",
    "        df: the attributes (X in our case)\n",
    "    Output: one-hot encoded dataframe\n",
    "    \n",
    "    Step 1: Use pd.get_dummies to convert df to a one-hot-encoded form. \n",
    "            Enable an option called drop_first to remove duplication.\n",
    "    Step 2: Return the one-hot-encoded dataframe.\n",
    "    \n",
    "    * Those steps and suggested method are just for your convenience. You can use your own choice of methods.\n",
    "      However, the result should be the same as the one created with the steps above.\n",
    "    \"\"\"\n",
    "    \n",
    "    df_onehot = pd.get_dummies(df, drop_first=True)\n",
    "    return df_onehot"
   ]
  },
  {
   "cell_type": "markdown",
   "metadata": {},
   "source": [
    "- Create `X_onehot` by calling `one_hot_encoding` function with `X`."
   ]
  },
  {
   "cell_type": "code",
   "execution_count": 209,
   "metadata": {},
   "outputs": [],
   "source": [
    "X_onehot = one_hot_encoding(X)"
   ]
  },
  {
   "cell_type": "markdown",
   "metadata": {},
   "source": [
    "- Check your result by calling any methods you learned. If you successfully followed the instruction, the output (`X_onehot`) should have 96 columns."
   ]
  },
  {
   "cell_type": "code",
   "execution_count": 210,
   "metadata": {},
   "outputs": [
    {
     "data": {
      "text/html": [
       "<div>\n",
       "<style scoped>\n",
       "    .dataframe tbody tr th:only-of-type {\n",
       "        vertical-align: middle;\n",
       "    }\n",
       "\n",
       "    .dataframe tbody tr th {\n",
       "        vertical-align: top;\n",
       "    }\n",
       "\n",
       "    .dataframe thead th {\n",
       "        text-align: right;\n",
       "    }\n",
       "</style>\n",
       "<table border=\"1\" class=\"dataframe\">\n",
       "  <thead>\n",
       "    <tr style=\"text-align: right;\">\n",
       "      <th></th>\n",
       "      <th>age</th>\n",
       "      <th>fnlwgt</th>\n",
       "      <th>education-num</th>\n",
       "      <th>capital-gain</th>\n",
       "      <th>capital-loss</th>\n",
       "      <th>hours-per-week</th>\n",
       "      <th>workclass_Local-gov</th>\n",
       "      <th>workclass_Private</th>\n",
       "      <th>workclass_Self-emp-inc</th>\n",
       "      <th>workclass_Self-emp-not-inc</th>\n",
       "      <th>...</th>\n",
       "      <th>native-country_Portugal</th>\n",
       "      <th>native-country_Puerto-Rico</th>\n",
       "      <th>native-country_Scotland</th>\n",
       "      <th>native-country_South</th>\n",
       "      <th>native-country_Taiwan</th>\n",
       "      <th>native-country_Thailand</th>\n",
       "      <th>native-country_Trinadad&amp;Tobago</th>\n",
       "      <th>native-country_United-States</th>\n",
       "      <th>native-country_Vietnam</th>\n",
       "      <th>native-country_Yugoslavia</th>\n",
       "    </tr>\n",
       "  </thead>\n",
       "  <tbody>\n",
       "    <tr>\n",
       "      <th>0</th>\n",
       "      <td>39</td>\n",
       "      <td>77516</td>\n",
       "      <td>13</td>\n",
       "      <td>2174</td>\n",
       "      <td>0</td>\n",
       "      <td>40</td>\n",
       "      <td>0</td>\n",
       "      <td>0</td>\n",
       "      <td>0</td>\n",
       "      <td>0</td>\n",
       "      <td>...</td>\n",
       "      <td>0</td>\n",
       "      <td>0</td>\n",
       "      <td>0</td>\n",
       "      <td>0</td>\n",
       "      <td>0</td>\n",
       "      <td>0</td>\n",
       "      <td>0</td>\n",
       "      <td>1</td>\n",
       "      <td>0</td>\n",
       "      <td>0</td>\n",
       "    </tr>\n",
       "    <tr>\n",
       "      <th>1</th>\n",
       "      <td>50</td>\n",
       "      <td>83311</td>\n",
       "      <td>13</td>\n",
       "      <td>0</td>\n",
       "      <td>0</td>\n",
       "      <td>13</td>\n",
       "      <td>0</td>\n",
       "      <td>0</td>\n",
       "      <td>0</td>\n",
       "      <td>1</td>\n",
       "      <td>...</td>\n",
       "      <td>0</td>\n",
       "      <td>0</td>\n",
       "      <td>0</td>\n",
       "      <td>0</td>\n",
       "      <td>0</td>\n",
       "      <td>0</td>\n",
       "      <td>0</td>\n",
       "      <td>1</td>\n",
       "      <td>0</td>\n",
       "      <td>0</td>\n",
       "    </tr>\n",
       "    <tr>\n",
       "      <th>2</th>\n",
       "      <td>38</td>\n",
       "      <td>215646</td>\n",
       "      <td>9</td>\n",
       "      <td>0</td>\n",
       "      <td>0</td>\n",
       "      <td>40</td>\n",
       "      <td>0</td>\n",
       "      <td>1</td>\n",
       "      <td>0</td>\n",
       "      <td>0</td>\n",
       "      <td>...</td>\n",
       "      <td>0</td>\n",
       "      <td>0</td>\n",
       "      <td>0</td>\n",
       "      <td>0</td>\n",
       "      <td>0</td>\n",
       "      <td>0</td>\n",
       "      <td>0</td>\n",
       "      <td>1</td>\n",
       "      <td>0</td>\n",
       "      <td>0</td>\n",
       "    </tr>\n",
       "    <tr>\n",
       "      <th>3</th>\n",
       "      <td>53</td>\n",
       "      <td>234721</td>\n",
       "      <td>7</td>\n",
       "      <td>0</td>\n",
       "      <td>0</td>\n",
       "      <td>40</td>\n",
       "      <td>0</td>\n",
       "      <td>1</td>\n",
       "      <td>0</td>\n",
       "      <td>0</td>\n",
       "      <td>...</td>\n",
       "      <td>0</td>\n",
       "      <td>0</td>\n",
       "      <td>0</td>\n",
       "      <td>0</td>\n",
       "      <td>0</td>\n",
       "      <td>0</td>\n",
       "      <td>0</td>\n",
       "      <td>1</td>\n",
       "      <td>0</td>\n",
       "      <td>0</td>\n",
       "    </tr>\n",
       "    <tr>\n",
       "      <th>4</th>\n",
       "      <td>28</td>\n",
       "      <td>338409</td>\n",
       "      <td>13</td>\n",
       "      <td>0</td>\n",
       "      <td>0</td>\n",
       "      <td>40</td>\n",
       "      <td>0</td>\n",
       "      <td>1</td>\n",
       "      <td>0</td>\n",
       "      <td>0</td>\n",
       "      <td>...</td>\n",
       "      <td>0</td>\n",
       "      <td>0</td>\n",
       "      <td>0</td>\n",
       "      <td>0</td>\n",
       "      <td>0</td>\n",
       "      <td>0</td>\n",
       "      <td>0</td>\n",
       "      <td>0</td>\n",
       "      <td>0</td>\n",
       "      <td>0</td>\n",
       "    </tr>\n",
       "  </tbody>\n",
       "</table>\n",
       "<p>5 rows × 96 columns</p>\n",
       "</div>"
      ],
      "text/plain": [
       "   age  fnlwgt  education-num  capital-gain  capital-loss  hours-per-week  \\\n",
       "0   39   77516             13          2174             0              40   \n",
       "1   50   83311             13             0             0              13   \n",
       "2   38  215646              9             0             0              40   \n",
       "3   53  234721              7             0             0              40   \n",
       "4   28  338409             13             0             0              40   \n",
       "\n",
       "   workclass_Local-gov  workclass_Private  workclass_Self-emp-inc  \\\n",
       "0                    0                  0                       0   \n",
       "1                    0                  0                       0   \n",
       "2                    0                  1                       0   \n",
       "3                    0                  1                       0   \n",
       "4                    0                  1                       0   \n",
       "\n",
       "   workclass_Self-emp-not-inc  ...  native-country_Portugal  \\\n",
       "0                           0  ...                        0   \n",
       "1                           1  ...                        0   \n",
       "2                           0  ...                        0   \n",
       "3                           0  ...                        0   \n",
       "4                           0  ...                        0   \n",
       "\n",
       "   native-country_Puerto-Rico  native-country_Scotland  native-country_South  \\\n",
       "0                           0                        0                     0   \n",
       "1                           0                        0                     0   \n",
       "2                           0                        0                     0   \n",
       "3                           0                        0                     0   \n",
       "4                           0                        0                     0   \n",
       "\n",
       "   native-country_Taiwan  native-country_Thailand  \\\n",
       "0                      0                        0   \n",
       "1                      0                        0   \n",
       "2                      0                        0   \n",
       "3                      0                        0   \n",
       "4                      0                        0   \n",
       "\n",
       "   native-country_Trinadad&Tobago  native-country_United-States  \\\n",
       "0                               0                             1   \n",
       "1                               0                             1   \n",
       "2                               0                             1   \n",
       "3                               0                             1   \n",
       "4                               0                             0   \n",
       "\n",
       "   native-country_Vietnam  native-country_Yugoslavia  \n",
       "0                       0                          0  \n",
       "1                       0                          0  \n",
       "2                       0                          0  \n",
       "3                       0                          0  \n",
       "4                       0                          0  \n",
       "\n",
       "[5 rows x 96 columns]"
      ]
     },
     "execution_count": 210,
     "metadata": {},
     "output_type": "execute_result"
    }
   ],
   "source": [
    "X_onehot.head()"
   ]
  },
  {
   "cell_type": "markdown",
   "metadata": {},
   "source": [
    "#### Task 4: Train test split (0.1 pt)"
   ]
  },
  {
   "cell_type": "markdown",
   "metadata": {},
   "source": [
    "We also need to split our dataset further into four parts for evaluation."
   ]
  },
  {
   "cell_type": "markdown",
   "metadata": {},
   "source": [
    "- Use scikit-learn's `train_test_split` function to divide the dataset into four parts.\n",
    "- Follow the instruction below carefully to get a point!.\n",
    "    - Use `X_onehot` and `y`.\n",
    "    - Assign 20% to a test set.\n",
    "    - Use our random state (`RANDOM_STATE`)\n",
    "    - Enable stratify option."
   ]
  },
  {
   "cell_type": "code",
   "execution_count": 211,
   "metadata": {},
   "outputs": [],
   "source": [
    "# Remove the assigned values and write the train_test_split function\n",
    "from sklearn.model_selection import train_test_split\n",
    "\n",
    "X_train, X_test, y_train, y_test = train_test_split(X_onehot, y, test_size=0.2, random_state=RANDOM_STATE)"
   ]
  },
  {
   "cell_type": "markdown",
   "metadata": {},
   "source": [
    "- Check the type and size here. We expect 24,129 data instances in the training set."
   ]
  },
  {
   "cell_type": "code",
   "execution_count": 212,
   "metadata": {},
   "outputs": [
    {
     "data": {
      "text/plain": [
       "((24129, 96), (6033, 96), (24129,), (6033,))"
      ]
     },
     "execution_count": 212,
     "metadata": {},
     "output_type": "execute_result"
    }
   ],
   "source": [
    "(X_train.shape, X_test.shape, y_train.shape, y_test.shape)"
   ]
  },
  {
   "cell_type": "markdown",
   "metadata": {},
   "source": [
    "#### Task 5: Standardization (0.2 pt)"
   ]
  },
  {
   "cell_type": "markdown",
   "metadata": {},
   "source": [
    "After removing the missing value and split X and y, we need to take care of our numeric attributes. As you can check from `describe()` function, we have numeric attributes with different mean and standard deviation values. Not all machine learning models require standardization of numeric attributes, but some do. In this homework, SVM might be the case that the standardization is required. It might be better to make standardized version when performing data preparation. \n",
    "\n",
    "- One-hot encoded data does not need to be standardized! So you need to choose the numeric columns only\n",
    "- For this task, you need to import sklearn's `StandardScaler`."
   ]
  },
  {
   "cell_type": "code",
   "execution_count": 213,
   "metadata": {},
   "outputs": [],
   "source": [
    "from sklearn.preprocessing import StandardScaler\n",
    "\n",
    "def standardize(X_train, X_test, numeric):\n",
    "    \"\"\"\n",
    "    Input:\n",
    "        - X_train: A split training set from Task 4\n",
    "        - X_test: A split test set from Task 5\n",
    "        - numeric: Numeric columns that should be standardized\n",
    "    Output:\n",
    "        - X_train_st: A standardized numeric attributes (ndarray)\n",
    "        - X_test_st: A standardized numeric attributes (ndarray)\n",
    "    \n",
    "    Step 1: Initialize StandardScaler into the variable 'sc'.\n",
    "    Step 2: Create X_train_numeric, X_test_numeric by selecting numeric columns from original X_train and X_test.\n",
    "            Use the input 'numeric' to choose the columns.\n",
    "    Step 3: Fit StandardScaler on X_train_numeric. You should only use the numeric columns only.\n",
    "    Step 4: Use trained StandardScaler and run transform function both on X_train_st (for the training set) \n",
    "            and X_test_st (for the test set). This job will standardize both training and test sets based on\n",
    "            the statistics of training set. You should only use numeric attributes.\n",
    "    Step 5: Return X_train_st, X_test_st\n",
    "    \n",
    "    \"\"\"\n",
    "    \n",
    "    # Step 1\n",
    "    sc = StandardScaler()\n",
    "    \n",
    "    # Step 2\n",
    "    X_train_numeric = X_train[numeric]\n",
    "    X_test_numeric = X_test[numeric]\n",
    "    \n",
    "    # Step 3\n",
    "    \n",
    "    \n",
    "    # Step 4\n",
    "    # Assign two outputs of transformation function to X_train_st (for the training set) and X_test_st (for the test set)\n",
    "    X_train_st = sc.fit_transform(X_train_numeric)\n",
    "    X_test_st = sc.transform(X_test_numeric)\n",
    "    \n",
    "    # Step 5\n",
    "    # Note that those two variable should only contain numeric attributes, not the whole ones.\n",
    "    return X_train_st, X_test_st"
   ]
  },
  {
   "cell_type": "code",
   "execution_count": 214,
   "metadata": {},
   "outputs": [],
   "source": [
    "def merge(X_train, X_test, X_train_numeric, X_test_numeric, numeric):\n",
    "    # DO NOT CHANGE THIS FUNCTION\n",
    "    # This function is to ensure that the datasets keep the Pandas DataFrame format.\n",
    "    if X_train.shape == (0, 0): return pd.DataFrame([0]), pd.DataFrame([0])\n",
    "    \n",
    "    X_train_st_df = X_train.copy()\n",
    "    X_train_st_df[numeric] = X_train_numeric\n",
    "    X_test_st_df = X_test.copy()\n",
    "    X_test_st_df[numeric] = X_test_numeric\n",
    "    \n",
    "    return X_train_st_df, X_test_st_df"
   ]
  },
  {
   "cell_type": "markdown",
   "metadata": {},
   "source": [
    "- Find numeric columns first and assign the column names into the variable `numeric`. You can use `.info()` or `.describe()` function to find numeric columns."
   ]
  },
  {
   "cell_type": "code",
   "execution_count": 215,
   "metadata": {},
   "outputs": [],
   "source": [
    "numeric = ['age', 'fnlwgt', 'education-num', 'capital-gain', 'capital-loss', 'hours-per-week']"
   ]
  },
  {
   "cell_type": "markdown",
   "metadata": {},
   "source": [
    "- Call `standardize` function to standardize numeric attributes. In this case, the output should only contain numeric attributes. We will merge the categorical features later on."
   ]
  },
  {
   "cell_type": "code",
   "execution_count": 216,
   "metadata": {},
   "outputs": [],
   "source": [
    "X_train_numeric, X_test_numeric = standardize(X_train, X_test, numeric)"
   ]
  },
  {
   "cell_type": "markdown",
   "metadata": {},
   "source": [
    "- Check the mean and standard deviation values of the standardized dataset by running the blocks below. The dataset now should have near zero mean and one standard deviation."
   ]
  },
  {
   "cell_type": "code",
   "execution_count": 217,
   "metadata": {},
   "outputs": [
    {
     "data": {
      "text/plain": [
       "array([-2.03188896e-17, -9.45270082e-17,  2.74746725e-16,  1.08956365e-17,\n",
       "       -9.71772982e-18,  2.24980169e-16])"
      ]
     },
     "execution_count": 217,
     "metadata": {},
     "output_type": "execute_result"
    }
   ],
   "source": [
    "X_train_numeric.mean(axis=0)"
   ]
  },
  {
   "cell_type": "code",
   "execution_count": 218,
   "metadata": {},
   "outputs": [
    {
     "data": {
      "text/plain": [
       "array([1., 1., 1., 1., 1., 1.])"
      ]
     },
     "execution_count": 218,
     "metadata": {},
     "output_type": "execute_result"
    }
   ],
   "source": [
    "X_train_numeric.std(axis=0)"
   ]
  },
  {
   "cell_type": "markdown",
   "metadata": {},
   "source": [
    "Unfortunately scikit-learn's StandardScaler does not return DataFrame. Run the block below to recover DataFrame and categorical features."
   ]
  },
  {
   "cell_type": "code",
   "execution_count": 219,
   "metadata": {},
   "outputs": [],
   "source": [
    "X_train_st, X_test_st = merge(X_train, X_test, X_train_numeric, X_test_numeric, numeric)"
   ]
  },
  {
   "cell_type": "markdown",
   "metadata": {},
   "source": [
    "Now, the final outcome (`X_train_st`) should have 96 columns again, where the numeric attributes have zero mean and one standard deviation."
   ]
  },
  {
   "cell_type": "code",
   "execution_count": 220,
   "metadata": {},
   "outputs": [
    {
     "data": {
      "text/html": [
       "<div>\n",
       "<style scoped>\n",
       "    .dataframe tbody tr th:only-of-type {\n",
       "        vertical-align: middle;\n",
       "    }\n",
       "\n",
       "    .dataframe tbody tr th {\n",
       "        vertical-align: top;\n",
       "    }\n",
       "\n",
       "    .dataframe thead th {\n",
       "        text-align: right;\n",
       "    }\n",
       "</style>\n",
       "<table border=\"1\" class=\"dataframe\">\n",
       "  <thead>\n",
       "    <tr style=\"text-align: right;\">\n",
       "      <th></th>\n",
       "      <th>age</th>\n",
       "      <th>fnlwgt</th>\n",
       "      <th>education-num</th>\n",
       "      <th>capital-gain</th>\n",
       "      <th>capital-loss</th>\n",
       "      <th>hours-per-week</th>\n",
       "      <th>workclass_Local-gov</th>\n",
       "      <th>workclass_Private</th>\n",
       "      <th>workclass_Self-emp-inc</th>\n",
       "      <th>workclass_Self-emp-not-inc</th>\n",
       "      <th>...</th>\n",
       "      <th>native-country_Portugal</th>\n",
       "      <th>native-country_Puerto-Rico</th>\n",
       "      <th>native-country_Scotland</th>\n",
       "      <th>native-country_South</th>\n",
       "      <th>native-country_Taiwan</th>\n",
       "      <th>native-country_Thailand</th>\n",
       "      <th>native-country_Trinadad&amp;Tobago</th>\n",
       "      <th>native-country_United-States</th>\n",
       "      <th>native-country_Vietnam</th>\n",
       "      <th>native-country_Yugoslavia</th>\n",
       "    </tr>\n",
       "  </thead>\n",
       "  <tbody>\n",
       "    <tr>\n",
       "      <th>count</th>\n",
       "      <td>2.412900e+04</td>\n",
       "      <td>2.412900e+04</td>\n",
       "      <td>2.412900e+04</td>\n",
       "      <td>2.412900e+04</td>\n",
       "      <td>2.412900e+04</td>\n",
       "      <td>2.412900e+04</td>\n",
       "      <td>24129.000000</td>\n",
       "      <td>24129.000000</td>\n",
       "      <td>24129.000000</td>\n",
       "      <td>24129.000000</td>\n",
       "      <td>...</td>\n",
       "      <td>24129.000000</td>\n",
       "      <td>24129.000000</td>\n",
       "      <td>24129.000000</td>\n",
       "      <td>24129.000000</td>\n",
       "      <td>24129.000000</td>\n",
       "      <td>24129.000000</td>\n",
       "      <td>24129.000000</td>\n",
       "      <td>24129.000000</td>\n",
       "      <td>24129.000000</td>\n",
       "      <td>24129.000000</td>\n",
       "    </tr>\n",
       "    <tr>\n",
       "      <th>mean</th>\n",
       "      <td>-2.031889e-17</td>\n",
       "      <td>-9.452701e-17</td>\n",
       "      <td>2.747467e-16</td>\n",
       "      <td>1.089564e-17</td>\n",
       "      <td>-9.717730e-18</td>\n",
       "      <td>2.249802e-16</td>\n",
       "      <td>0.069584</td>\n",
       "      <td>0.738613</td>\n",
       "      <td>0.035642</td>\n",
       "      <td>0.082888</td>\n",
       "      <td>...</td>\n",
       "      <td>0.000870</td>\n",
       "      <td>0.003564</td>\n",
       "      <td>0.000332</td>\n",
       "      <td>0.002570</td>\n",
       "      <td>0.001368</td>\n",
       "      <td>0.000622</td>\n",
       "      <td>0.000456</td>\n",
       "      <td>0.912305</td>\n",
       "      <td>0.001948</td>\n",
       "      <td>0.000622</td>\n",
       "    </tr>\n",
       "    <tr>\n",
       "      <th>std</th>\n",
       "      <td>1.000021e+00</td>\n",
       "      <td>1.000021e+00</td>\n",
       "      <td>1.000021e+00</td>\n",
       "      <td>1.000021e+00</td>\n",
       "      <td>1.000021e+00</td>\n",
       "      <td>1.000021e+00</td>\n",
       "      <td>0.254450</td>\n",
       "      <td>0.439399</td>\n",
       "      <td>0.185399</td>\n",
       "      <td>0.275718</td>\n",
       "      <td>...</td>\n",
       "      <td>0.029489</td>\n",
       "      <td>0.059595</td>\n",
       "      <td>0.018206</td>\n",
       "      <td>0.050626</td>\n",
       "      <td>0.036957</td>\n",
       "      <td>0.024926</td>\n",
       "      <td>0.021347</td>\n",
       "      <td>0.282857</td>\n",
       "      <td>0.044093</td>\n",
       "      <td>0.024926</td>\n",
       "    </tr>\n",
       "    <tr>\n",
       "      <th>min</th>\n",
       "      <td>-1.636359e+00</td>\n",
       "      <td>-1.669435e+00</td>\n",
       "      <td>-3.589529e+00</td>\n",
       "      <td>-1.482812e-01</td>\n",
       "      <td>-2.187606e-01</td>\n",
       "      <td>-3.353012e+00</td>\n",
       "      <td>0.000000</td>\n",
       "      <td>0.000000</td>\n",
       "      <td>0.000000</td>\n",
       "      <td>0.000000</td>\n",
       "      <td>...</td>\n",
       "      <td>0.000000</td>\n",
       "      <td>0.000000</td>\n",
       "      <td>0.000000</td>\n",
       "      <td>0.000000</td>\n",
       "      <td>0.000000</td>\n",
       "      <td>0.000000</td>\n",
       "      <td>0.000000</td>\n",
       "      <td>0.000000</td>\n",
       "      <td>0.000000</td>\n",
       "      <td>0.000000</td>\n",
       "    </tr>\n",
       "    <tr>\n",
       "      <th>25%</th>\n",
       "      <td>-7.986701e-01</td>\n",
       "      <td>-6.855524e-01</td>\n",
       "      <td>-4.403975e-01</td>\n",
       "      <td>-1.482812e-01</td>\n",
       "      <td>-2.187606e-01</td>\n",
       "      <td>-8.165266e-02</td>\n",
       "      <td>0.000000</td>\n",
       "      <td>0.000000</td>\n",
       "      <td>0.000000</td>\n",
       "      <td>0.000000</td>\n",
       "      <td>...</td>\n",
       "      <td>0.000000</td>\n",
       "      <td>0.000000</td>\n",
       "      <td>0.000000</td>\n",
       "      <td>0.000000</td>\n",
       "      <td>0.000000</td>\n",
       "      <td>0.000000</td>\n",
       "      <td>0.000000</td>\n",
       "      <td>1.000000</td>\n",
       "      <td>0.000000</td>\n",
       "      <td>0.000000</td>\n",
       "    </tr>\n",
       "    <tr>\n",
       "      <th>50%</th>\n",
       "      <td>-1.132882e-01</td>\n",
       "      <td>-1.080330e-01</td>\n",
       "      <td>-4.675604e-02</td>\n",
       "      <td>-1.482812e-01</td>\n",
       "      <td>-2.187606e-01</td>\n",
       "      <td>-8.165266e-02</td>\n",
       "      <td>0.000000</td>\n",
       "      <td>1.000000</td>\n",
       "      <td>0.000000</td>\n",
       "      <td>0.000000</td>\n",
       "      <td>...</td>\n",
       "      <td>0.000000</td>\n",
       "      <td>0.000000</td>\n",
       "      <td>0.000000</td>\n",
       "      <td>0.000000</td>\n",
       "      <td>0.000000</td>\n",
       "      <td>0.000000</td>\n",
       "      <td>0.000000</td>\n",
       "      <td>1.000000</td>\n",
       "      <td>0.000000</td>\n",
       "      <td>0.000000</td>\n",
       "    </tr>\n",
       "    <tr>\n",
       "      <th>75%</th>\n",
       "      <td>6.482472e-01</td>\n",
       "      <td>4.541478e-01</td>\n",
       "      <td>1.134168e+00</td>\n",
       "      <td>-1.482812e-01</td>\n",
       "      <td>-2.187606e-01</td>\n",
       "      <td>3.377524e-01</td>\n",
       "      <td>0.000000</td>\n",
       "      <td>1.000000</td>\n",
       "      <td>0.000000</td>\n",
       "      <td>0.000000</td>\n",
       "      <td>...</td>\n",
       "      <td>0.000000</td>\n",
       "      <td>0.000000</td>\n",
       "      <td>0.000000</td>\n",
       "      <td>0.000000</td>\n",
       "      <td>0.000000</td>\n",
       "      <td>0.000000</td>\n",
       "      <td>0.000000</td>\n",
       "      <td>1.000000</td>\n",
       "      <td>0.000000</td>\n",
       "      <td>0.000000</td>\n",
       "    </tr>\n",
       "    <tr>\n",
       "      <th>max</th>\n",
       "      <td>3.922849e+00</td>\n",
       "      <td>1.112707e+01</td>\n",
       "      <td>2.315093e+00</td>\n",
       "      <td>1.332332e+01</td>\n",
       "      <td>1.055575e+01</td>\n",
       "      <td>4.867327e+00</td>\n",
       "      <td>1.000000</td>\n",
       "      <td>1.000000</td>\n",
       "      <td>1.000000</td>\n",
       "      <td>1.000000</td>\n",
       "      <td>...</td>\n",
       "      <td>1.000000</td>\n",
       "      <td>1.000000</td>\n",
       "      <td>1.000000</td>\n",
       "      <td>1.000000</td>\n",
       "      <td>1.000000</td>\n",
       "      <td>1.000000</td>\n",
       "      <td>1.000000</td>\n",
       "      <td>1.000000</td>\n",
       "      <td>1.000000</td>\n",
       "      <td>1.000000</td>\n",
       "    </tr>\n",
       "  </tbody>\n",
       "</table>\n",
       "<p>8 rows × 96 columns</p>\n",
       "</div>"
      ],
      "text/plain": [
       "                age        fnlwgt  education-num  capital-gain  capital-loss  \\\n",
       "count  2.412900e+04  2.412900e+04   2.412900e+04  2.412900e+04  2.412900e+04   \n",
       "mean  -2.031889e-17 -9.452701e-17   2.747467e-16  1.089564e-17 -9.717730e-18   \n",
       "std    1.000021e+00  1.000021e+00   1.000021e+00  1.000021e+00  1.000021e+00   \n",
       "min   -1.636359e+00 -1.669435e+00  -3.589529e+00 -1.482812e-01 -2.187606e-01   \n",
       "25%   -7.986701e-01 -6.855524e-01  -4.403975e-01 -1.482812e-01 -2.187606e-01   \n",
       "50%   -1.132882e-01 -1.080330e-01  -4.675604e-02 -1.482812e-01 -2.187606e-01   \n",
       "75%    6.482472e-01  4.541478e-01   1.134168e+00 -1.482812e-01 -2.187606e-01   \n",
       "max    3.922849e+00  1.112707e+01   2.315093e+00  1.332332e+01  1.055575e+01   \n",
       "\n",
       "       hours-per-week  workclass_Local-gov  workclass_Private  \\\n",
       "count    2.412900e+04         24129.000000       24129.000000   \n",
       "mean     2.249802e-16             0.069584           0.738613   \n",
       "std      1.000021e+00             0.254450           0.439399   \n",
       "min     -3.353012e+00             0.000000           0.000000   \n",
       "25%     -8.165266e-02             0.000000           0.000000   \n",
       "50%     -8.165266e-02             0.000000           1.000000   \n",
       "75%      3.377524e-01             0.000000           1.000000   \n",
       "max      4.867327e+00             1.000000           1.000000   \n",
       "\n",
       "       workclass_Self-emp-inc  workclass_Self-emp-not-inc  ...  \\\n",
       "count            24129.000000                24129.000000  ...   \n",
       "mean                 0.035642                    0.082888  ...   \n",
       "std                  0.185399                    0.275718  ...   \n",
       "min                  0.000000                    0.000000  ...   \n",
       "25%                  0.000000                    0.000000  ...   \n",
       "50%                  0.000000                    0.000000  ...   \n",
       "75%                  0.000000                    0.000000  ...   \n",
       "max                  1.000000                    1.000000  ...   \n",
       "\n",
       "       native-country_Portugal  native-country_Puerto-Rico  \\\n",
       "count             24129.000000                24129.000000   \n",
       "mean                  0.000870                    0.003564   \n",
       "std                   0.029489                    0.059595   \n",
       "min                   0.000000                    0.000000   \n",
       "25%                   0.000000                    0.000000   \n",
       "50%                   0.000000                    0.000000   \n",
       "75%                   0.000000                    0.000000   \n",
       "max                   1.000000                    1.000000   \n",
       "\n",
       "       native-country_Scotland  native-country_South  native-country_Taiwan  \\\n",
       "count             24129.000000          24129.000000           24129.000000   \n",
       "mean                  0.000332              0.002570               0.001368   \n",
       "std                   0.018206              0.050626               0.036957   \n",
       "min                   0.000000              0.000000               0.000000   \n",
       "25%                   0.000000              0.000000               0.000000   \n",
       "50%                   0.000000              0.000000               0.000000   \n",
       "75%                   0.000000              0.000000               0.000000   \n",
       "max                   1.000000              1.000000               1.000000   \n",
       "\n",
       "       native-country_Thailand  native-country_Trinadad&Tobago  \\\n",
       "count             24129.000000                    24129.000000   \n",
       "mean                  0.000622                        0.000456   \n",
       "std                   0.024926                        0.021347   \n",
       "min                   0.000000                        0.000000   \n",
       "25%                   0.000000                        0.000000   \n",
       "50%                   0.000000                        0.000000   \n",
       "75%                   0.000000                        0.000000   \n",
       "max                   1.000000                        1.000000   \n",
       "\n",
       "       native-country_United-States  native-country_Vietnam  \\\n",
       "count                  24129.000000            24129.000000   \n",
       "mean                       0.912305                0.001948   \n",
       "std                        0.282857                0.044093   \n",
       "min                        0.000000                0.000000   \n",
       "25%                        1.000000                0.000000   \n",
       "50%                        1.000000                0.000000   \n",
       "75%                        1.000000                0.000000   \n",
       "max                        1.000000                1.000000   \n",
       "\n",
       "       native-country_Yugoslavia  \n",
       "count               24129.000000  \n",
       "mean                    0.000622  \n",
       "std                     0.024926  \n",
       "min                     0.000000  \n",
       "25%                     0.000000  \n",
       "50%                     0.000000  \n",
       "75%                     0.000000  \n",
       "max                     1.000000  \n",
       "\n",
       "[8 rows x 96 columns]"
      ]
     },
     "execution_count": 220,
     "metadata": {},
     "output_type": "execute_result"
    }
   ],
   "source": [
    "X_train_st.describe()"
   ]
  },
  {
   "cell_type": "markdown",
   "metadata": {},
   "source": [
    "After finishing a simple data processing, let's proceed to our main task, classification."
   ]
  },
  {
   "cell_type": "markdown",
   "metadata": {},
   "source": [
    "# 1. Classification"
   ]
  },
  {
   "cell_type": "markdown",
   "metadata": {},
   "source": [
    "In this assignment, we will run random forest (RF), and support vector machine (SVM) with different kernels using scikit-learn. Then we will implement score functions for decision trees and main functions for random forests to understand the concepts better. We will continue to use the pre-processed Adult dataset from the section zero (Task 1-5)."
   ]
  },
  {
   "cell_type": "markdown",
   "metadata": {},
   "source": [
    "#### Task 6: Random forest (graded, 0.5 pt)"
   ]
  },
  {
   "cell_type": "markdown",
   "metadata": {},
   "source": [
    "Here you will run the random forest algorithm using scikit-learn, together with cross-validation. Detailed information about the random forest in scikit-learn can be found [here](https://scikit-learn.org/stable/modules/generated/sklearn.ensemble.RandomForestClassifier.html).\n",
    "\n",
    "Your task is as follows:\n",
    " 1. Create a random forest classifier `rf` with the random state defined above (`RANDOM_STATE`). Do not specify any other parameters.\n",
    " 2. Report an average cross-validation score `rf_cross_val_score` with stratified k-fold with **cv=5**. You should report the average score, not a list of the scores. Use `X_onehot` and `y`, not the training or test set (0.2 pt). \n",
    " - ***Note that you are reporting an average cross validation score, not a list of scores.***\n"
   ]
  },
  {
   "cell_type": "code",
   "execution_count": 221,
   "metadata": {},
   "outputs": [],
   "source": [
    "from sklearn.ensemble import RandomForestClassifier\n",
    "\n",
    "rf = RandomForestClassifier(n_estimators=100, random_state=RANDOM_STATE)"
   ]
  },
  {
   "cell_type": "code",
   "execution_count": 222,
   "metadata": {},
   "outputs": [],
   "source": [
    "from sklearn.model_selection import cross_val_score\n",
    "\n",
    "rf_cross_val_score = cross_val_score(rf, X_train_st, y_train, cv=5)"
   ]
  },
  {
   "cell_type": "markdown",
   "metadata": {},
   "source": [
    "- Run this line to check your score. Your score should be above 0.80."
   ]
  },
  {
   "cell_type": "code",
   "execution_count": 223,
   "metadata": {},
   "outputs": [
    {
     "data": {
      "text/plain": [
       "array([0.84873601, 0.85350186, 0.8541235 , 0.84915044, 0.85139896])"
      ]
     },
     "execution_count": 223,
     "metadata": {},
     "output_type": "execute_result"
    }
   ],
   "source": [
    "rf_cross_val_score"
   ]
  },
  {
   "cell_type": "markdown",
   "metadata": {},
   "source": [
    "\n",
    " 3. Run grid search `gs` with a single dictionary `grid_dict` with two keys 1) max_depth from 2 to 4 (included), and 2) min_samples_split from 2 to 5 (included) and report the best classifier into the variable `rf_best_classifier`. Set **cv=5** for grid search cross-validation. Use our training set (`X_train_st` and `y_train`) to perform the grid search. This task can take a few minutes depending on computing power (0.3 pt)."
   ]
  },
  {
   "cell_type": "code",
   "execution_count": 224,
   "metadata": {},
   "outputs": [],
   "source": [
    "grid_dict =  {'n_estimators': [100, 200, 300, 400, 500], 'max_depth': [5, 10, 15, 20, 25, 30, 35, 40, 45, 50]}"
   ]
  },
  {
   "cell_type": "code",
   "execution_count": 225,
   "metadata": {},
   "outputs": [],
   "source": [
    "from sklearn.model_selection import GridSearchCV\n",
    "\n",
    "gs = GridSearchCV(rf, grid_dict, cv=5, n_jobs=-1)"
   ]
  },
  {
   "cell_type": "markdown",
   "metadata": {},
   "source": [
    "- Report your best classifier here."
   ]
  },
  {
   "cell_type": "code",
   "execution_count": 226,
   "metadata": {},
   "outputs": [],
   "source": [
    "rf_best_classifier = gs.fit(X_train_st, y_train)"
   ]
  },
  {
   "cell_type": "code",
   "execution_count": 227,
   "metadata": {},
   "outputs": [
    {
     "data": {
      "text/plain": [
       "{'max_depth': 20, 'n_estimators': 400}"
      ]
     },
     "execution_count": 227,
     "metadata": {},
     "output_type": "execute_result"
    }
   ],
   "source": [
    "rf_best_classifier.best_params_"
   ]
  },
  {
   "cell_type": "markdown",
   "metadata": {},
   "source": [
    "#### Task 7: SVM with diverse kernels (graded, 0.4 pt)"
   ]
  },
  {
   "cell_type": "markdown",
   "metadata": {},
   "source": [
    "We already tried a simple SVC with the RBF kernel before. Here you will run SVM again, but with different kernels, and together with cross-validation. Detailed information about SVC in scikit-learn can be found [here](https://scikit-learn.org/stable/modules/generated/sklearn.svm.SVC.html#sklearn.svm.SVC).\n",
    "\n",
    "Your task is as follows:\n",
    "\n",
    "  1. Create a standard SVC classifier `svc` without setting any parameter.\n",
    "  2. Run grid search with a list of two parameter dictionaries, one with kernel = ['linear', 'poly', 'rbf'] and the other one with C = [1, 10, 100]. This means you have to create a list containing two different dictionaries inside. Report the best classifier into the variable `svm_best_classifier`. Set **cv=4** for grid search cross-validation. Use `X_train_st` and `y_train`. This task can take a few minutes depending on computing power (0.3 pt).\n"
   ]
  },
  {
   "cell_type": "code",
   "execution_count": 228,
   "metadata": {},
   "outputs": [],
   "source": [
    "from  sklearn.svm import SVC\n",
    "\n",
    "svc = SVC(random_state=RANDOM_STATE)"
   ]
  },
  {
   "cell_type": "code",
   "execution_count": 229,
   "metadata": {},
   "outputs": [],
   "source": [
    "\n",
    "\n",
    "grid_dict = {'C': [1, 10, 100], 'kernel': ['linear','poly','rbf']} \n",
    "gs = GridSearchCV(svc, grid_dict, cv=4, n_jobs=-1)\n",
    "svm_best_classifier = gs.fit(X_train_st, y_train)"
   ]
  },
  {
   "cell_type": "code",
   "execution_count": 230,
   "metadata": {},
   "outputs": [
    {
     "name": "stdout",
     "output_type": "stream",
     "text": [
      "GridSearchCV(cv=4, estimator=SVC(random_state=46458), n_jobs=-1,\n",
      "             param_grid={'C': [1, 10, 100],\n",
      "                         'kernel': ['linear', 'poly', 'rbf']})\n"
     ]
    }
   ],
   "source": [
    "print(svm_best_classifier)"
   ]
  },
  {
   "cell_type": "markdown",
   "metadata": {},
   "source": [
    "  3. Take the best model from grid search and report the test score to `svm_gs_score` (0.1 pt)."
   ]
  },
  {
   "cell_type": "code",
   "execution_count": 231,
   "metadata": {},
   "outputs": [],
   "source": [
    "svm_gs_score = svm_best_classifier.score(X_test_st, y_test)"
   ]
  },
  {
   "cell_type": "code",
   "execution_count": 232,
   "metadata": {},
   "outputs": [
    {
     "name": "stdout",
     "output_type": "stream",
     "text": [
      "0.846676611967512\n"
     ]
    }
   ],
   "source": [
    "print(svm_gs_score)"
   ]
  },
  {
   "cell_type": "markdown",
   "metadata": {},
   "source": [
    "#### Task 8: Decision tree (2.0 pt)"
   ]
  },
  {
   "cell_type": "markdown",
   "metadata": {},
   "source": [
    "**Task 8 involves manual implementation and uses a different dataset. If you would like to complete scikit-learn related tasks using the same dataset first, please move on to Task 9 and on and come back to Task 8 later.**\n",
    "\n",
    "We will now implement a few modules for decision tree. Follow the instruction carefully so that you can return a correct result. This task is composed of two sections as follows:\n",
    "\n",
    "  - 8-1. Entropy, gini index, and information gain (0.7 pt)\n",
    "  - 8-2. Tree implementation (1.3 pt)"
   ]
  },
  {
   "cell_type": "markdown",
   "metadata": {},
   "source": [
    "First section of this task is to create three functions used to evaluate and grow the tree, which are covered in the lecture. Entropy, gini index are two main scores used for it. Information gain is the final score to choose a feature for dividing the node. Those scores are essencial for decision tree to work properly and a wrong score can lead to choosing the features that are not proper for creating a high-performing tree.\n",
    "\n",
    "- For simplicity, you will not use the **adult** dataset in this task but will use a simple **playgolf** dataset with categorical attributes.\n",
    "\n",
    "- Task 8 is a continuous task and the grade is evaluated by the result of the function. Since one function calls other functions in the task, failing to develop one function can affect the whole grade."
   ]
  },
  {
   "cell_type": "markdown",
   "metadata": {},
   "source": [
    "Import playgolf dataset to `playgolf`. You can find it in the homework file."
   ]
  },
  {
   "cell_type": "code",
   "execution_count": 233,
   "metadata": {},
   "outputs": [],
   "source": [
    "playgolf = pd.read_csv('datasets/playgolf.csv')"
   ]
  },
  {
   "cell_type": "code",
   "execution_count": 234,
   "metadata": {},
   "outputs": [
    {
     "data": {
      "text/plain": [
       "Index(['Outlook', 'Temp', 'Humidity', 'Windy', 'Play Golf'], dtype='object')"
      ]
     },
     "execution_count": 234,
     "metadata": {},
     "output_type": "execute_result"
    }
   ],
   "source": [
    "playgolf.columns"
   ]
  },
  {
   "cell_type": "code",
   "execution_count": 235,
   "metadata": {},
   "outputs": [
    {
     "data": {
      "text/html": [
       "<div>\n",
       "<style scoped>\n",
       "    .dataframe tbody tr th:only-of-type {\n",
       "        vertical-align: middle;\n",
       "    }\n",
       "\n",
       "    .dataframe tbody tr th {\n",
       "        vertical-align: top;\n",
       "    }\n",
       "\n",
       "    .dataframe thead th {\n",
       "        text-align: right;\n",
       "    }\n",
       "</style>\n",
       "<table border=\"1\" class=\"dataframe\">\n",
       "  <thead>\n",
       "    <tr style=\"text-align: right;\">\n",
       "      <th></th>\n",
       "      <th>Outlook</th>\n",
       "      <th>Temp</th>\n",
       "      <th>Humidity</th>\n",
       "      <th>Windy</th>\n",
       "      <th>Play Golf</th>\n",
       "    </tr>\n",
       "  </thead>\n",
       "  <tbody>\n",
       "    <tr>\n",
       "      <th>0</th>\n",
       "      <td>Rainy</td>\n",
       "      <td>Hot</td>\n",
       "      <td>High</td>\n",
       "      <td>False</td>\n",
       "      <td>No</td>\n",
       "    </tr>\n",
       "    <tr>\n",
       "      <th>1</th>\n",
       "      <td>Rainy</td>\n",
       "      <td>Hot</td>\n",
       "      <td>High</td>\n",
       "      <td>True</td>\n",
       "      <td>No</td>\n",
       "    </tr>\n",
       "    <tr>\n",
       "      <th>2</th>\n",
       "      <td>Overcast</td>\n",
       "      <td>Hot</td>\n",
       "      <td>High</td>\n",
       "      <td>False</td>\n",
       "      <td>Yes</td>\n",
       "    </tr>\n",
       "    <tr>\n",
       "      <th>3</th>\n",
       "      <td>Sunny</td>\n",
       "      <td>Mild</td>\n",
       "      <td>High</td>\n",
       "      <td>False</td>\n",
       "      <td>Yes</td>\n",
       "    </tr>\n",
       "    <tr>\n",
       "      <th>4</th>\n",
       "      <td>Sunny</td>\n",
       "      <td>Cool</td>\n",
       "      <td>Normal</td>\n",
       "      <td>False</td>\n",
       "      <td>Yes</td>\n",
       "    </tr>\n",
       "  </tbody>\n",
       "</table>\n",
       "</div>"
      ],
      "text/plain": [
       "    Outlook  Temp Humidity  Windy Play Golf\n",
       "0     Rainy   Hot     High  False        No\n",
       "1     Rainy   Hot     High   True        No\n",
       "2  Overcast   Hot     High  False       Yes\n",
       "3     Sunny  Mild     High  False       Yes\n",
       "4     Sunny  Cool   Normal  False       Yes"
      ]
     },
     "execution_count": 235,
     "metadata": {},
     "output_type": "execute_result"
    }
   ],
   "source": [
    "playgolf.head()"
   ]
  },
  {
   "cell_type": "markdown",
   "metadata": {},
   "source": [
    "- Task 8-1: Create a gini index function (0.2 pt).\n",
    "  - The Gini Index is calculated by subtracting the sum of the squared probabilities of each class from one.\n",
    "  - You should double check the lecture slides and the examples below to make sure you made a correct function.\n",
    "  - You can use collections.Counter() to count labels of the dataset."
   ]
  },
  {
   "cell_type": "code",
   "execution_count": 236,
   "metadata": {},
   "outputs": [],
   "source": [
    "def gini(dataset):\n",
    "    \"\"\"\n",
    "    A function that calculates gini index of a given list.\n",
    "    \n",
    "    Input\n",
    "     - dataset: a list of labels.\n",
    "    Output\n",
    "     - impurity: gini index of the list.\n",
    "    \n",
    "    You do not need to keep the output name of this function, the grade only depends on the correct outputs.\n",
    "    \n",
    "    \"\"\"\n",
    "\n",
    "    # Count the number of each label\n",
    "    counts = np.unique(dataset, return_counts=True)[1]\n",
    "    \n",
    "    # Calculate the gini index\n",
    "    impurity = 1\n",
    "    for count in counts:\n",
    "        impurity -= (count/len(dataset))**2\n",
    "    \n",
    "    return impurity\n",
    "   "
   ]
  },
  {
   "cell_type": "markdown",
   "metadata": {},
   "source": [
    "- Your gini index is expected to have the following results:\n",
    "  - `0.5` for `[0,0,1,1]`\n",
    "  - `0.4082` for `[0,0,0,0,0,1,1]`"
   ]
  },
  {
   "cell_type": "code",
   "execution_count": 237,
   "metadata": {},
   "outputs": [
    {
     "data": {
      "text/plain": [
       "0.5"
      ]
     },
     "execution_count": 237,
     "metadata": {},
     "output_type": "execute_result"
    }
   ],
   "source": [
    "gini([0,0,1,1])"
   ]
  },
  {
   "cell_type": "markdown",
   "metadata": {},
   "source": [
    "- Report a gini score of the `Temp` attribute of **playgolf** to `gini_score` (0.2 pt)."
   ]
  },
  {
   "cell_type": "code",
   "execution_count": 238,
   "metadata": {},
   "outputs": [],
   "source": [
    "gini_score = gini(playgolf['Play Golf'])"
   ]
  },
  {
   "cell_type": "markdown",
   "metadata": {},
   "source": [
    "- Print your score here!"
   ]
  },
  {
   "cell_type": "code",
   "execution_count": 239,
   "metadata": {},
   "outputs": [
    {
     "name": "stdout",
     "output_type": "stream",
     "text": [
      "0.46\n"
     ]
    }
   ],
   "source": [
    "gini_score = round(gini_score, 2)\n",
    "\n",
    "print(gini_score)"
   ]
  },
  {
   "cell_type": "markdown",
   "metadata": {},
   "source": [
    "- Task 8-2: Create an entropy function (0.2 pt).\n",
    "  - You should double check the lecture slides and the examples below to make sure you made a correct function. \n",
    "  - You can use collections.Counter() to count labels of the dataset."
   ]
  },
  {
   "cell_type": "code",
   "execution_count": 240,
   "metadata": {},
   "outputs": [],
   "source": [
    "def entropy(dataset):\n",
    "    \"\"\"\n",
    "    A function that calculates entropy of a given list.\n",
    "    \n",
    "    Input\n",
    "     - dataset: a list of labels.\n",
    "    Output\n",
    "     - impurity: entropy value of the list.\n",
    "    \n",
    "    You do not need to keep the output name of this function, the grade only depends on the correct outputs.\n",
    "    \n",
    "    \"\"\"\n",
    "\n",
    "    # Count the number of each label\n",
    "    counts = np.unique(dataset, return_counts=True)[1]\n",
    "\n",
    "    # Calculate the entropy\n",
    "    impurity = 0\n",
    "    for count in counts:\n",
    "        prob = count/len(dataset)\n",
    "        impurity -= prob*np.log2(prob)\n",
    "\n",
    "    return impurity"
   ]
  },
  {
   "cell_type": "markdown",
   "metadata": {},
   "source": [
    "- Your entropy is expected to have the following results:\n",
    "  - `1.0` for `[0,0,1,1]`\n",
    "  - `0.8631` for `[0,0,0,0,0,1,1]`"
   ]
  },
  {
   "cell_type": "code",
   "execution_count": 241,
   "metadata": {},
   "outputs": [
    {
     "data": {
      "text/plain": [
       "1.0"
      ]
     },
     "execution_count": 241,
     "metadata": {},
     "output_type": "execute_result"
    }
   ],
   "source": [
    "entropy([0,0,1,1])"
   ]
  },
  {
   "cell_type": "code",
   "execution_count": 242,
   "metadata": {},
   "outputs": [
    {
     "data": {
      "text/plain": [
       "0.863120568566631"
      ]
     },
     "execution_count": 242,
     "metadata": {},
     "output_type": "execute_result"
    }
   ],
   "source": [
    "entropy([0,0,0,0,0,1,1])"
   ]
  },
  {
   "cell_type": "markdown",
   "metadata": {},
   "source": [
    "- Report a gini score of the `Windy` attribute of **playgolf** to `entropy_score` (0.2 pt)."
   ]
  },
  {
   "cell_type": "code",
   "execution_count": 243,
   "metadata": {},
   "outputs": [],
   "source": [
    "entropy_score = entropy(playgolf['Play Golf'])"
   ]
  },
  {
   "cell_type": "markdown",
   "metadata": {},
   "source": [
    "- Print your score here!"
   ]
  },
  {
   "cell_type": "code",
   "execution_count": 244,
   "metadata": {},
   "outputs": [
    {
     "data": {
      "text/plain": [
       "0.9402859586706311"
      ]
     },
     "execution_count": 244,
     "metadata": {},
     "output_type": "execute_result"
    }
   ],
   "source": [
    "entropy_score "
   ]
  },
  {
   "cell_type": "markdown",
   "metadata": {},
   "source": [
    "- Task 8-3: Create an information gain function (0.3 pt). \n",
    "  - **DO NOT use entropy but only use the gini index for scores.**\n",
    "  - Check the lecture slides and the examples below to make sure you made a correct function."
   ]
  },
  {
   "cell_type": "code",
   "execution_count": 245,
   "metadata": {},
   "outputs": [],
   "source": [
    "def information_gain(labels_start, labels_split):\n",
    "    \"\"\"\n",
    "    Calculate information gain when we have an information of label distribution before and after split operation.\n",
    "    This information gain function receives two values:\n",
    "    \n",
    "    Input:\n",
    "      - labels_start: A single list of all current labels\n",
    "        e.g.) [0,0,0,0,1,1,1,1]\n",
    "      - labels_split: A list of lists representing split \n",
    "        e.g.) [ [0,0,1,1], [1,1,0,0] ]\n",
    "    \n",
    "    Then we can calculate information gain by calculating the gini index before splitting,\n",
    "    and substract (gini index of the subset * proportion of the subset) for each list after splitting from there.\n",
    "    \n",
    "    Output:\n",
    "      - info_gain: Information gain\n",
    "    \n",
    "    You do not need to keep the output name of this function, the grade only depends on the correct outputs.\n",
    "    \n",
    "    \"\"\"\n",
    "\n",
    "    # Calculate the gini index before splitting\n",
    "    gini_start = gini(labels_start)\n",
    "\n",
    "    # Calculate the information gain\n",
    "    info_gain = gini_start\n",
    "    for labels in labels_split:\n",
    "        info_gain -= gini(labels)*len(labels)/len(labels_start)\n",
    "    return info_gain"
   ]
  },
  {
   "cell_type": "code",
   "execution_count": 246,
   "metadata": {},
   "outputs": [
    {
     "data": {
      "text/plain": [
       "0.125"
      ]
     },
     "execution_count": 246,
     "metadata": {},
     "output_type": "execute_result"
    }
   ],
   "source": [
    "information_gain([0,0,0,0,1,1,1,1], [[0,0,1,0],[1,1,0,1]])"
   ]
  },
  {
   "cell_type": "markdown",
   "metadata": {},
   "source": [
    "- Your information gain is expected to have the following results:\n",
    "  - `0.0` for `[0,0,0,0,1,1,1,1], [[0,0,1,1],[0,0,1,1]]`\n",
    "  - `0.5` for `[0,0,0,0,1,1,1,1], [[0,0,0,0],[1,1,1,1]]`\n",
    "  - `0.125` for `[0,0,0,0,1,1,1,1], [[0,0,1,0],[1,0,1,1]]`"
   ]
  },
  {
   "cell_type": "markdown",
   "metadata": {},
   "source": [
    "- Here we have labels before and after splitting information. Use those two values to calculate information gain and report it to `info_gain_score` using your own `information_gain` function (0.3 pt)."
   ]
  },
  {
   "cell_type": "code",
   "execution_count": 247,
   "metadata": {},
   "outputs": [],
   "source": [
    "labels_start = [1,2,1,2,2,1,2,1,3,3,3]\n",
    "labels_split = [[3,3,3],[1,2,1,1],[2,2,1,2]]"
   ]
  },
  {
   "cell_type": "code",
   "execution_count": 248,
   "metadata": {},
   "outputs": [],
   "source": [
    "info_gain_score = information_gain(labels_start, labels_split)"
   ]
  },
  {
   "cell_type": "markdown",
   "metadata": {},
   "source": [
    "- Print your score here!"
   ]
  },
  {
   "cell_type": "code",
   "execution_count": 249,
   "metadata": {},
   "outputs": [
    {
     "data": {
      "text/plain": [
       "0.38842975206611574"
      ]
     },
     "execution_count": 249,
     "metadata": {},
     "output_type": "execute_result"
    }
   ],
   "source": [
    "info_gain_score"
   ]
  },
  {
   "cell_type": "markdown",
   "metadata": {},
   "source": [
    "Now we have some score functions required to construct the tree. Then it is time to create the tree itself! \n",
    "\n",
    "- Note that this assignment does not aim to make whole working decision trees and random forests but the core functions to understand the algorithm.\n",
    "\n",
    " The tree works as follow:\n",
    "\n",
    "- Starting from the root, you choose few attributes to test. This does not need to be all the attributes the dataset has.\n",
    "- Iterate chosen attributes and calculate information gain, assuming you split the dataset based on each attribute.\n",
    "- Choose the column (attribute) with maximum information gain and split the dataset once again.\n",
    "- Continue growing the tree by choosing the column in the same say until we meet a closing criterion.\n",
    "\n",
    "Here, we will give you a basic `split` function used to split the dataset based on the attribute. This split function receives the attributes (`X`), the label (`y`) and one `feature` (attribute) of it, and split the whole dataset based on the categories of the selected feature and return split data subsets and label subsets. Using those split values, you are going to make few functions needed for decision trees and random forests. "
   ]
  },
  {
   "cell_type": "code",
   "execution_count": 250,
   "metadata": {},
   "outputs": [],
   "source": [
    "def split(X, y, attr):\n",
    "    split_attrs = []\n",
    "    split_labels = []\n",
    "    \n",
    "    for val in X[attr].unique():\n",
    "        attr_subset = []\n",
    "        label_subset = []\n",
    "        \n",
    "        for idx, row in X.iterrows():\n",
    "            \n",
    "            if row[attr] == val:\n",
    "                attr_subset.append(row)\n",
    "                label_subset.append(y[idx])\n",
    "                \n",
    "        split_attrs.append(pd.DataFrame(attr_subset))\n",
    "        split_labels.append(label_subset)\n",
    "        \n",
    "    return split_attrs, split_labels"
   ]
  },
  {
   "cell_type": "markdown",
   "metadata": {},
   "source": [
    "Check out the result by running the function below and also check the Windy column to understand what the function does."
   ]
  },
  {
   "cell_type": "code",
   "execution_count": 251,
   "metadata": {},
   "outputs": [
    {
     "data": {
      "text/plain": [
       "([     Outlook  Temp Humidity  Windy\n",
       "  0      Rainy   Hot     High  False\n",
       "  2   Overcast   Hot     High  False\n",
       "  3      Sunny  Mild     High  False\n",
       "  4      Sunny  Cool   Normal  False\n",
       "  7      Rainy  Mild     High  False\n",
       "  8      Rainy  Cool   Normal  False\n",
       "  9      Sunny  Mild   Normal  False\n",
       "  12  Overcast   Hot   Normal  False,\n",
       "       Outlook  Temp Humidity  Windy\n",
       "  1      Rainy   Hot     High   True\n",
       "  5      Sunny  Cool   Normal   True\n",
       "  6   Overcast  Cool   Normal   True\n",
       "  10     Rainy  Mild   Normal   True\n",
       "  11  Overcast  Mild     High   True\n",
       "  13     Sunny  Mild     High   True],\n",
       " [['No', 'Yes', 'Yes', 'Yes', 'No', 'Yes', 'Yes', 'Yes'],\n",
       "  ['No', 'No', 'Yes', 'Yes', 'Yes', 'No']])"
      ]
     },
     "execution_count": 251,
     "metadata": {},
     "output_type": "execute_result"
    }
   ],
   "source": [
    "split(playgolf.drop('Play Golf', axis=1), playgolf['Play Golf'], 'Windy')"
   ]
  },
  {
   "cell_type": "code",
   "execution_count": 265,
   "metadata": {},
   "outputs": [
    {
     "data": {
      "text/plain": [
       "0     False\n",
       "1      True\n",
       "2     False\n",
       "3     False\n",
       "4     False\n",
       "5      True\n",
       "6      True\n",
       "7     False\n",
       "8     False\n",
       "9     False\n",
       "10     True\n",
       "11     True\n",
       "12    False\n",
       "13     True\n",
       "Name: Windy, dtype: bool"
      ]
     },
     "execution_count": 265,
     "metadata": {},
     "output_type": "execute_result"
    }
   ],
   "source": [
    "playgolf['Windy']"
   ]
  },
  {
   "cell_type": "markdown",
   "metadata": {},
   "source": [
    "- Task 8-4: First thing we need to make is the function to choose the attributes. So we receive a dataframe and a strategy, and return a list of chosen columns. In this case we usually do it 'with replacement', meaning that the same column can be chosen twice. We can have three different options for choosing attributes (0.3 pt).\n",
    "  - \"sqrt\": use the sqrt of total column size to choose the columns\n",
    "  - integer numbers: use the received number for  \n",
    "  - \"max\": choose the same number of columns as its original size - just return the columns"
   ]
  },
  {
   "cell_type": "code",
   "execution_count": 294,
   "metadata": {},
   "outputs": [],
   "source": [
    "def select_attributes(X, strategy):\n",
    "    \"\"\"\n",
    "    Input\n",
    "        - X: Attributes of the node.\n",
    "        - y: dataset labels.\n",
    "        - strategy: strategy for the number of attributes that the algorithm chooses.\n",
    "    Output\n",
    "        - attributes: a list of selected attributes\n",
    "\n",
    "    Step 1: Check the strategy. If the type of strategy is integer, number of attribute to choose will be that number.\n",
    "            If it's \"sqrt\", then it will be the square root of column size (if it is a floating point number, round it down), \n",
    "            if \"max\", it's the size of dataset's columns. Put appropriate value to 'num_attr'.\n",
    "    Step 2: Choose 'num_attr' column names from X.columns without allowing replacement. Use np.random.choice. \n",
    "            Assign the result to 'attributes'\n",
    "    Step 3: return 'attributes'.\n",
    "\n",
    "    \"\"\"\n",
    "    \n",
    "    num_attr = 0\n",
    "\n",
    "    if strategy == \"sqrt\":\n",
    "        num_attr = int(np.sqrt(len(X.columns)))\n",
    "    elif strategy == \"max\":\n",
    "        num_attr = len(X.columns)\n",
    "    else:\n",
    "        num_attr = strategy\n",
    "        \n",
    "    attributes = np.random.choice(X.columns, num_attr, replace=False)\n",
    "    \n",
    "    return attributes\n"
   ]
  },
  {
   "cell_type": "markdown",
   "metadata": {},
   "source": [
    "- You can test your method here!"
   ]
  },
  {
   "cell_type": "code",
   "execution_count": 295,
   "metadata": {},
   "outputs": [
    {
     "data": {
      "text/plain": [
       "array(['Outlook', 'Humidity'], dtype=object)"
      ]
     },
     "execution_count": 295,
     "metadata": {},
     "output_type": "execute_result"
    }
   ],
   "source": [
    "select_attributes(playgolf.drop('Play Golf', axis=1), \"sqrt\")"
   ]
  },
  {
   "cell_type": "code",
   "execution_count": 296,
   "metadata": {},
   "outputs": [
    {
     "data": {
      "text/plain": [
       "array(['Outlook', 'Temp', 'Humidity', 'Windy'], dtype=object)"
      ]
     },
     "execution_count": 296,
     "metadata": {},
     "output_type": "execute_result"
    }
   ],
   "source": [
    "select_attributes(playgolf.drop('Play Golf', axis=1), \"max\")"
   ]
  },
  {
   "cell_type": "markdown",
   "metadata": {},
   "source": [
    "- Task 8-5: Now we have a method to choose attributes. Then now we need to make a function to iterate those selected attributes in the dataset and eventually can make a function for choosing the best feature to split, given the dataset of the node (It will be a full dataset if we run this function on the root node.). The function receives the datasets (`X`, `y`) and the list of selected attributes calculated by `selected_attributes` function (or it can also be user input), and returns the best feature among the chosen one and it's information gain. This process is one of the core processes of the decision tree (0.3 pt). "
   ]
  },
  {
   "cell_type": "code",
   "execution_count": 297,
   "metadata": {},
   "outputs": [],
   "source": [
    "\n",
    "def check_info_gain_per_attribute(X, y, attributes):\n",
    "    \"\"\"\n",
    "    Input\n",
    "        - X: Attributes of the node.\n",
    "        - y: dataset labels.\n",
    "        - attributes: the selected attributes to test.\n",
    "    Output\n",
    "        - best_feature: The best feature in terms of information gain.\n",
    "        - best_gain: The information gain value when the dataset is split by the best feature.\n",
    "        \n",
    "    Step 1: Initialize two variables: Set best_info_gain to zero and best_attr to None.\n",
    "    Step 2: You should iterate the attributes we get as an input.\n",
    "            For each chosen attribute, 'split' the dataset using the split function we have offered.\n",
    "            This will return sets of attributes and labels. Save the split attributes and labels.\n",
    "    Step 3: Calculate information gain of the current split in the iteration. \n",
    "            Use information_gain function you created and the label information from Step 3.\n",
    "    Step 4: Compare it to the current best gain, if the new gain is higher (not higher or equal to), reset best_gain and best_feature.\n",
    "    Step 5: Return best_attr, best_info_gain.\n",
    "    \n",
    "    \n",
    "    \"\"\"\n",
    "    #Step 1\n",
    "    best_gain = 0\n",
    "    best_feature = None\n",
    "    \n",
    "    #Step 2\n",
    "    for attr in attributes:\n",
    "        split_attrs, split_labels = split(X, y, attr)\n",
    "        \n",
    "        #Step 3\n",
    "        info_gain = information_gain(y, split_labels)\n",
    "        \n",
    "        #Step 4\n",
    "        if info_gain > best_gain:\n",
    "            best_gain = info_gain\n",
    "            best_feature = attr\n",
    "            \n",
    "    #Step 5\n",
    "    return best_feature, best_gain"
   ]
  },
  {
   "cell_type": "markdown",
   "metadata": {},
   "source": [
    "- Now we can check and you need to answer here! - which attribute is better in terms of information gain between Windy and Outlook?\n",
    "  - Answering this question is also part of Task 8-5.\n",
    "  - You should not put the string value yourself. Save the outcome of check_info_gain_per_attribute function that answers the question."
   ]
  },
  {
   "cell_type": "code",
   "execution_count": 298,
   "metadata": {},
   "outputs": [],
   "source": [
    "better_attribute = better_attribute = check_info_gain_per_attribute(playgolf.drop('Play Golf', axis=1), playgolf['Play Golf'], ['Outlook', 'Temp', 'Humidity', 'Windy'])"
   ]
  },
  {
   "cell_type": "code",
   "execution_count": 299,
   "metadata": {},
   "outputs": [
    {
     "name": "stdout",
     "output_type": "stream",
     "text": [
      "('Outlook', 0.11632653061224485)\n"
     ]
    }
   ],
   "source": [
    "print(better_attribute)"
   ]
  },
  {
   "cell_type": "markdown",
   "metadata": {},
   "source": [
    "Task 8-6: Now we can create a wrapper function that calls two separate function: `select_attributes`, and `check_info_gain_per_attribute`. Now, the function receives data `X`, `y`, and `strategy` and calls `select_attributes` with `strategy` to get a list of attributes. Next it calls `check_info_gain_per_attribute` with selected attributes and finally return the best attribute and the corresponding information gain (0.2 pt)."
   ]
  },
  {
   "cell_type": "code",
   "execution_count": 300,
   "metadata": {},
   "outputs": [],
   "source": [
    "# 0.2 pt\n",
    "def best_split(X, y, strategy):\n",
    "    \"\"\"\n",
    "    Input\n",
    "        - X: Attributes of the node.\n",
    "        - y: dataset labels.\n",
    "        - strategy: strategy for the number of attributes that the algorithm chooses.\n",
    "    Output\n",
    "        - best_feature: The best feature in terms of information gain.\n",
    "        - best_gain: The information gain value when the dataset is split by the best feature.\n",
    "\n",
    "    Complete the function following the instruction above\n",
    "    \"\"\"\n",
    "    best_attr, best_info_gain =  None, None\n",
    "\n",
    "    attributes = select_attributes(X, strategy)\n",
    "    best_attr, best_info_gain = check_info_gain_per_attribute(X, y, attributes)\n",
    "\n",
    "    return best_attr, best_info_gain"
   ]
  },
  {
   "cell_type": "markdown",
   "metadata": {},
   "source": [
    "- Find the best split of the playgolf dataset with `strategy` = `sqrt`. Report the best feature and best gain to `best_attr_playgolf` and `best_gain_playgolf`.\n",
    "   - Answering the question here is part of Task 8-6"
   ]
  },
  {
   "cell_type": "code",
   "execution_count": 301,
   "metadata": {},
   "outputs": [],
   "source": [
    "np.random.seed(RANDOM_STATE)\n",
    "best_attr_playgolf, best_gain_playgolf = best_split(playgolf.drop('Play Golf', axis=1), playgolf['Play Golf'], 'sqrt')"
   ]
  },
  {
   "cell_type": "code",
   "execution_count": 302,
   "metadata": {},
   "outputs": [
    {
     "data": {
      "text/plain": [
       "('Outlook', 0.11632653061224485)"
      ]
     },
     "execution_count": 302,
     "metadata": {},
     "output_type": "execute_result"
    }
   ],
   "source": [
    "# TEST YOUR RESULT HERE\n",
    "best_attr_playgolf, best_gain_playgolf"
   ]
  },
  {
   "cell_type": "markdown",
   "metadata": {},
   "source": [
    "Task 8-7: Now we have functions 1) to split the function based on one chosen feature (`split`) and 2) to choose the best feature to split (`best_split`). The next step will be to create one tree with all the information we have. Finish the function `build`. This function makes one tree of the random forest by using two previous functions. Since this function is a recursive one, it will return a complete tree, not a node (0.5 pt)."
   ]
  },
  {
   "cell_type": "code",
   "execution_count": 317,
   "metadata": {},
   "outputs": [],
   "source": [
    "# 0.5 pt\n",
    "\n",
    "def build(X, y, strategy, max_depth = 5, min_samples_leaf = 5, tol=0.00001, _depth = 0):\n",
    "    \"\"\"\n",
    "    Input\n",
    "        - X: Attributes of the data\n",
    "        - y: dataset labels\n",
    "        - strategy: strategy for the number of attributes that the algorithm chooses.\n",
    "        - max_depth: maximum allowed depth of the tree\n",
    "        - min_samples_leaf: minimum number of data instances required to continue\n",
    "        - tol: information gain tolerance value.\n",
    "        - _depth: current depth of tree starting from zero (root). only controlled by the algorithm.\n",
    "    Output\n",
    "        - node: a leaf or middle node.\n",
    "    \n",
    "    Step 0: Consider some stopping criteria. We do not continue this function if the following contidions are met:\n",
    "        1. if the current depth number is bigger than max_depth\n",
    "        2. if the current sample size is smaller than min_samples_leaf\n",
    "      Check these conditions and terminate the function if required. When terminating, return False\n",
    "    Step 1: Run the best split function to get the best attributes and the best information gain for the node.\n",
    "    Step 2: Examine the best information gain value. If it is lower than the tolerance value (tol), \n",
    "            return the node with the best information gain value. The node should be a dictionary form \n",
    "            {\"type\": \"leaf\", \"gain\": the best information gain}.\n",
    "    Step 3: If the best information gain is higher, split the dataset with the chosen best attribute.\n",
    "    Step 4: Create an empty list called \"branches\" to save all the branches of the current node.\n",
    "    Step 5: For each split attributes and labels, run this 'build' function recursively and store the result\n",
    "            to the  \"branches\" list **only if the returned value is not False (from termination)**.\n",
    "            Do not forget to increase the depth value so we can trace the max_depth.\n",
    "    Step 6: After all the recursion process is done, return the root node with its best attribute, branch information,\n",
    "            and the best information gain.\n",
    "    \"\"\"\n",
    "    \n",
    "    # Step 0\n",
    "    if _depth > max_depth or len(y) < min_samples_leaf:\n",
    "        return False\n",
    "    \n",
    "    # Step 1\n",
    "    best_attr, best_info_gain = best_split(X, y, strategy)\n",
    "    \n",
    "    # Step 2\n",
    "    if best_info_gain < tol:\n",
    "        return {\"type\": \"leaf\", \"gain\": best_info_gain}\n",
    "    \n",
    "    # Step 3\n",
    "    split_attrss, split_labels = split(X, y, best_attr)\n",
    "    \n",
    "    # Step 4\n",
    "    branches = []\n",
    "    \n",
    "    # Step 5\n",
    "    for i in range(len(split_attrss)):\n",
    "        result = build(split_attrss[i], split_labels[i], strategy, max_depth, min_samples_leaf, tol, _depth+1)\n",
    "        if result != False:\n",
    "            branches.append(result)\n",
    "    \n",
    "    # Step 6\n",
    "    return {\"type\": \"node\", \"attr\": best_attr, \"branches\": branches, \"gain\": best_info_gain}\n",
    "\n",
    "    "
   ]
  },
  {
   "cell_type": "markdown",
   "metadata": {},
   "source": [
    "- Bulid one tree using the whole playgolf dataset and report the tree to the variable 'single_tree'. Set the strategy to \"sqrt\", max_depth to 3, and min_samples_leaf to 2. You do not need to specify the tolerance value (0.5 pt)."
   ]
  },
  {
   "cell_type": "code",
   "execution_count": 318,
   "metadata": {},
   "outputs": [
    {
     "ename": "IndexError",
     "evalue": "list index out of range",
     "output_type": "error",
     "traceback": [
      "\u001b[1;31m---------------------------------------------------------------------------\u001b[0m",
      "\u001b[1;31mIndexError\u001b[0m                                Traceback (most recent call last)",
      "\u001b[1;32mc:\\Users\\Max\\Downloads\\HW3\\HW3_Instructions.ipynb Cell 149\u001b[0m in \u001b[0;36m<cell line: 2>\u001b[1;34m()\u001b[0m\n\u001b[0;32m      <a href='vscode-notebook-cell:/c%3A/Users/Max/Downloads/HW3/HW3_Instructions.ipynb#Y301sZmlsZQ%3D%3D?line=0'>1</a>\u001b[0m np\u001b[39m.\u001b[39mrandom\u001b[39m.\u001b[39mseed(RANDOM_STATE)\n\u001b[1;32m----> <a href='vscode-notebook-cell:/c%3A/Users/Max/Downloads/HW3/HW3_Instructions.ipynb#Y301sZmlsZQ%3D%3D?line=1'>2</a>\u001b[0m single_tree \u001b[39m=\u001b[39m build(playgolf\u001b[39m.\u001b[39;49mdrop(\u001b[39m'\u001b[39;49m\u001b[39mPlay Golf\u001b[39;49m\u001b[39m'\u001b[39;49m, axis\u001b[39m=\u001b[39;49m\u001b[39m1\u001b[39;49m), playgolf[\u001b[39m'\u001b[39;49m\u001b[39mPlay Golf\u001b[39;49m\u001b[39m'\u001b[39;49m], \u001b[39m'\u001b[39;49m\u001b[39msqrt\u001b[39;49m\u001b[39m'\u001b[39;49m, max_depth \u001b[39m=\u001b[39;49m \u001b[39m3\u001b[39;49m, min_samples_leaf \u001b[39m=\u001b[39;49m \u001b[39m2\u001b[39;49m)\n",
      "\u001b[1;32mc:\\Users\\Max\\Downloads\\HW3\\HW3_Instructions.ipynb Cell 149\u001b[0m in \u001b[0;36mbuild\u001b[1;34m(X, y, strategy, max_depth, min_samples_leaf, tol, _depth)\u001b[0m\n\u001b[0;32m     <a href='vscode-notebook-cell:/c%3A/Users/Max/Downloads/HW3/HW3_Instructions.ipynb#Y301sZmlsZQ%3D%3D?line=49'>50</a>\u001b[0m \u001b[39m# Step 5\u001b[39;00m\n\u001b[0;32m     <a href='vscode-notebook-cell:/c%3A/Users/Max/Downloads/HW3/HW3_Instructions.ipynb#Y301sZmlsZQ%3D%3D?line=50'>51</a>\u001b[0m \u001b[39mfor\u001b[39;00m i \u001b[39min\u001b[39;00m \u001b[39mrange\u001b[39m(\u001b[39mlen\u001b[39m(split_attrss)):\n\u001b[1;32m---> <a href='vscode-notebook-cell:/c%3A/Users/Max/Downloads/HW3/HW3_Instructions.ipynb#Y301sZmlsZQ%3D%3D?line=51'>52</a>\u001b[0m     result \u001b[39m=\u001b[39m build(split_attrss[i], split_labels[i], strategy, max_depth, min_samples_leaf, tol, _depth\u001b[39m+\u001b[39;49m\u001b[39m1\u001b[39;49m)\n\u001b[0;32m     <a href='vscode-notebook-cell:/c%3A/Users/Max/Downloads/HW3/HW3_Instructions.ipynb#Y301sZmlsZQ%3D%3D?line=52'>53</a>\u001b[0m     \u001b[39mif\u001b[39;00m result \u001b[39m!=\u001b[39m \u001b[39mFalse\u001b[39;00m:\n\u001b[0;32m     <a href='vscode-notebook-cell:/c%3A/Users/Max/Downloads/HW3/HW3_Instructions.ipynb#Y301sZmlsZQ%3D%3D?line=53'>54</a>\u001b[0m         branches\u001b[39m.\u001b[39mappend(result)\n",
      "\u001b[1;32mc:\\Users\\Max\\Downloads\\HW3\\HW3_Instructions.ipynb Cell 149\u001b[0m in \u001b[0;36mbuild\u001b[1;34m(X, y, strategy, max_depth, min_samples_leaf, tol, _depth)\u001b[0m\n\u001b[0;32m     <a href='vscode-notebook-cell:/c%3A/Users/Max/Downloads/HW3/HW3_Instructions.ipynb#Y301sZmlsZQ%3D%3D?line=34'>35</a>\u001b[0m     \u001b[39mreturn\u001b[39;00m \u001b[39mFalse\u001b[39;00m\n\u001b[0;32m     <a href='vscode-notebook-cell:/c%3A/Users/Max/Downloads/HW3/HW3_Instructions.ipynb#Y301sZmlsZQ%3D%3D?line=36'>37</a>\u001b[0m \u001b[39m# Step 1\u001b[39;00m\n\u001b[1;32m---> <a href='vscode-notebook-cell:/c%3A/Users/Max/Downloads/HW3/HW3_Instructions.ipynb#Y301sZmlsZQ%3D%3D?line=37'>38</a>\u001b[0m best_attr, best_info_gain \u001b[39m=\u001b[39m best_split(X, y, strategy)\n\u001b[0;32m     <a href='vscode-notebook-cell:/c%3A/Users/Max/Downloads/HW3/HW3_Instructions.ipynb#Y301sZmlsZQ%3D%3D?line=39'>40</a>\u001b[0m \u001b[39m# Step 2\u001b[39;00m\n\u001b[0;32m     <a href='vscode-notebook-cell:/c%3A/Users/Max/Downloads/HW3/HW3_Instructions.ipynb#Y301sZmlsZQ%3D%3D?line=40'>41</a>\u001b[0m \u001b[39mif\u001b[39;00m best_info_gain \u001b[39m<\u001b[39m tol:\n",
      "\u001b[1;32mc:\\Users\\Max\\Downloads\\HW3\\HW3_Instructions.ipynb Cell 149\u001b[0m in \u001b[0;36mbest_split\u001b[1;34m(X, y, strategy)\u001b[0m\n\u001b[0;32m     <a href='vscode-notebook-cell:/c%3A/Users/Max/Downloads/HW3/HW3_Instructions.ipynb#Y301sZmlsZQ%3D%3D?line=13'>14</a>\u001b[0m best_attr, best_info_gain \u001b[39m=\u001b[39m  \u001b[39mNone\u001b[39;00m, \u001b[39mNone\u001b[39;00m\n\u001b[0;32m     <a href='vscode-notebook-cell:/c%3A/Users/Max/Downloads/HW3/HW3_Instructions.ipynb#Y301sZmlsZQ%3D%3D?line=15'>16</a>\u001b[0m attributes \u001b[39m=\u001b[39m select_attributes(X, strategy)\n\u001b[1;32m---> <a href='vscode-notebook-cell:/c%3A/Users/Max/Downloads/HW3/HW3_Instructions.ipynb#Y301sZmlsZQ%3D%3D?line=16'>17</a>\u001b[0m best_attr, best_info_gain \u001b[39m=\u001b[39m check_info_gain_per_attribute(X, y, attributes)\n\u001b[0;32m     <a href='vscode-notebook-cell:/c%3A/Users/Max/Downloads/HW3/HW3_Instructions.ipynb#Y301sZmlsZQ%3D%3D?line=18'>19</a>\u001b[0m \u001b[39mreturn\u001b[39;00m best_attr, best_info_gain\n",
      "\u001b[1;32mc:\\Users\\Max\\Downloads\\HW3\\HW3_Instructions.ipynb Cell 149\u001b[0m in \u001b[0;36mcheck_info_gain_per_attribute\u001b[1;34m(X, y, attributes)\u001b[0m\n\u001b[0;32m     <a href='vscode-notebook-cell:/c%3A/Users/Max/Downloads/HW3/HW3_Instructions.ipynb#Y301sZmlsZQ%3D%3D?line=25'>26</a>\u001b[0m \u001b[39m#Step 2\u001b[39;00m\n\u001b[0;32m     <a href='vscode-notebook-cell:/c%3A/Users/Max/Downloads/HW3/HW3_Instructions.ipynb#Y301sZmlsZQ%3D%3D?line=26'>27</a>\u001b[0m \u001b[39mfor\u001b[39;00m attr \u001b[39min\u001b[39;00m attributes:\n\u001b[1;32m---> <a href='vscode-notebook-cell:/c%3A/Users/Max/Downloads/HW3/HW3_Instructions.ipynb#Y301sZmlsZQ%3D%3D?line=27'>28</a>\u001b[0m     split_attrs, split_labels \u001b[39m=\u001b[39m split(X, y, attr)\n\u001b[0;32m     <a href='vscode-notebook-cell:/c%3A/Users/Max/Downloads/HW3/HW3_Instructions.ipynb#Y301sZmlsZQ%3D%3D?line=29'>30</a>\u001b[0m     \u001b[39m#Step 3\u001b[39;00m\n\u001b[0;32m     <a href='vscode-notebook-cell:/c%3A/Users/Max/Downloads/HW3/HW3_Instructions.ipynb#Y301sZmlsZQ%3D%3D?line=30'>31</a>\u001b[0m     info_gain \u001b[39m=\u001b[39m information_gain(y, split_labels)\n",
      "\u001b[1;32mc:\\Users\\Max\\Downloads\\HW3\\HW3_Instructions.ipynb Cell 149\u001b[0m in \u001b[0;36msplit\u001b[1;34m(X, y, attr)\u001b[0m\n\u001b[0;32m     <a href='vscode-notebook-cell:/c%3A/Users/Max/Downloads/HW3/HW3_Instructions.ipynb#Y301sZmlsZQ%3D%3D?line=10'>11</a>\u001b[0m     \u001b[39mif\u001b[39;00m row[attr] \u001b[39m==\u001b[39m val:\n\u001b[0;32m     <a href='vscode-notebook-cell:/c%3A/Users/Max/Downloads/HW3/HW3_Instructions.ipynb#Y301sZmlsZQ%3D%3D?line=11'>12</a>\u001b[0m         attr_subset\u001b[39m.\u001b[39mappend(row)\n\u001b[1;32m---> <a href='vscode-notebook-cell:/c%3A/Users/Max/Downloads/HW3/HW3_Instructions.ipynb#Y301sZmlsZQ%3D%3D?line=12'>13</a>\u001b[0m         label_subset\u001b[39m.\u001b[39mappend(y[idx])\n\u001b[0;32m     <a href='vscode-notebook-cell:/c%3A/Users/Max/Downloads/HW3/HW3_Instructions.ipynb#Y301sZmlsZQ%3D%3D?line=14'>15</a>\u001b[0m split_attrs\u001b[39m.\u001b[39mappend(pd\u001b[39m.\u001b[39mDataFrame(attr_subset))\n\u001b[0;32m     <a href='vscode-notebook-cell:/c%3A/Users/Max/Downloads/HW3/HW3_Instructions.ipynb#Y301sZmlsZQ%3D%3D?line=15'>16</a>\u001b[0m split_labels\u001b[39m.\u001b[39mappend(label_subset)\n",
      "\u001b[1;31mIndexError\u001b[0m: list index out of range"
     ]
    }
   ],
   "source": [
    "np.random.seed(RANDOM_STATE)\n",
    "single_tree = build(playgolf.drop('Play Golf', axis=1), playgolf['Play Golf'], 'sqrt', max_depth = 3, min_samples_leaf = 2)"
   ]
  },
  {
   "cell_type": "markdown",
   "metadata": {},
   "source": [
    "- Print your result here"
   ]
  },
  {
   "cell_type": "code",
   "execution_count": 305,
   "metadata": {},
   "outputs": [
    {
     "ename": "NameError",
     "evalue": "name 'single_tree' is not defined",
     "output_type": "error",
     "traceback": [
      "\u001b[1;31m---------------------------------------------------------------------------\u001b[0m",
      "\u001b[1;31mNameError\u001b[0m                                 Traceback (most recent call last)",
      "\u001b[1;32mc:\\Users\\Max\\Downloads\\HW3\\HW3_Instructions.ipynb Cell 151\u001b[0m in \u001b[0;36m<cell line: 1>\u001b[1;34m()\u001b[0m\n\u001b[1;32m----> <a href='vscode-notebook-cell:/c%3A/Users/Max/Downloads/HW3/HW3_Instructions.ipynb#Y303sZmlsZQ%3D%3D?line=0'>1</a>\u001b[0m single_tree\n",
      "\u001b[1;31mNameError\u001b[0m: name 'single_tree' is not defined"
     ]
    }
   ],
   "source": [
    "single_tree"
   ]
  },
  {
   "cell_type": "markdown",
   "metadata": {},
   "source": [
    "# 2. Evaluation "
   ]
  },
  {
   "cell_type": "markdown",
   "metadata": {},
   "source": [
    "#### Task 9: Accuracy, Precision, Recall, F1-score (0.3 pt)"
   ]
  },
  {
   "cell_type": "markdown",
   "metadata": {},
   "source": [
    "We start to use our original dataset again! Remember that we have two standardized datasets (`X_train_st` and `y_train`).. You will evaluate the random forest and the support vector machine classifier with various performance measures you have learned besides accuracy, such as precision, recall, and F1-score, also using scikit-learn. Here we continue to use the same dataset."
   ]
  },
  {
   "cell_type": "markdown",
   "metadata": {},
   "source": [
    "- Use standardized datasets (`X_train_st`, `y_train`...) throughout the task. To use the various score functions here, you need to convert the labels of `y_train` and `y_test` (`<=50K`, `>50K`) to numeric ones (0 or 1) since the score functions will not recognize the categorical labels. Create `y_train_numeric` and `y_test_numeric` with the converted labels (`<=50K` to 0, and `>50K` to 1). Refer to the previous labs. (0.1 pt)"
   ]
  },
  {
   "cell_type": "code",
   "execution_count": 311,
   "metadata": {},
   "outputs": [],
   "source": [
    "# Subtask 1: 0.1 pt\n",
    "y_train_numeric = y_train.apply(lambda x: 1 if x == 'Yes' else 0)\n",
    "y_test_numeric = y_test.apply(lambda x: 1 if x == 'Yes' else 0)"
   ]
  },
  {
   "cell_type": "markdown",
   "metadata": {},
   "source": [
    "Check if you successfully replaced the values here."
   ]
  },
  {
   "cell_type": "code",
   "execution_count": 312,
   "metadata": {},
   "outputs": [
    {
     "data": {
      "text/plain": [
       "(array([0], dtype=int64), array([0], dtype=int64))"
      ]
     },
     "execution_count": 312,
     "metadata": {},
     "output_type": "execute_result"
    }
   ],
   "source": [
    "y_train_numeric.unique(), y_test_numeric.unique()"
   ]
  },
  {
   "cell_type": "markdown",
   "metadata": {},
   "source": [
    "- Create an instance of an SVC classifier with the **polynomial** kernel and fit the model using the training set. You can use any variable name for your SVC instance. Report precision score, recall score, and F1-score using the test set, and save it into the variable `recall_score_svc`, `precision_score_svc`, and `f1_score_svc` (0.2 pt). \n",
    "  - You can find out the information about the performance measures [here](https://scikit-learn.org/stable/modules/model_evaluation.html#precision-recall-f-measure-metrics). We require you to calculate the scores using the following functions in scikit-learn: `precision_score`, `recall_score`, and `f1_score`. \n",
    "  - Use the `macro` average option - you can read more about it [here](https://scikit-learn.org/stable/modules/generated/sklearn.metrics.f1_score.html).\n",
    "  - There is no partial point if you are correct on only some of them."
   ]
  },
  {
   "cell_type": "code",
   "execution_count": 316,
   "metadata": {},
   "outputs": [
    {
     "ename": "KeyboardInterrupt",
     "evalue": "",
     "output_type": "error",
     "traceback": [
      "\u001b[1;31m---------------------------------------------------------------------------\u001b[0m",
      "\u001b[1;31mKeyboardInterrupt\u001b[0m                         Traceback (most recent call last)",
      "\u001b[1;32mc:\\Users\\Max\\Downloads\\HW3\\HW3_Instructions.ipynb Cell 160\u001b[0m in \u001b[0;36m<cell line: 4>\u001b[1;34m()\u001b[0m\n\u001b[0;32m      <a href='vscode-notebook-cell:/c%3A/Users/Max/Downloads/HW3/HW3_Instructions.ipynb#Y315sZmlsZQ%3D%3D?line=1'>2</a>\u001b[0m \u001b[39mfrom\u001b[39;00m \u001b[39msklearn\u001b[39;00m\u001b[39m.\u001b[39;00m\u001b[39mmetrics\u001b[39;00m \u001b[39mimport\u001b[39;00m recall_score, precision_score, accuracy_score, f1_score\n\u001b[0;32m      <a href='vscode-notebook-cell:/c%3A/Users/Max/Downloads/HW3/HW3_Instructions.ipynb#Y315sZmlsZQ%3D%3D?line=2'>3</a>\u001b[0m svc \u001b[39m=\u001b[39m  SVC()\n\u001b[1;32m----> <a href='vscode-notebook-cell:/c%3A/Users/Max/Downloads/HW3/HW3_Instructions.ipynb#Y315sZmlsZQ%3D%3D?line=3'>4</a>\u001b[0m svc\u001b[39m.\u001b[39;49mfit(X_train, y_train)\n\u001b[0;32m      <a href='vscode-notebook-cell:/c%3A/Users/Max/Downloads/HW3/HW3_Instructions.ipynb#Y315sZmlsZQ%3D%3D?line=4'>5</a>\u001b[0m y_pred \u001b[39m=\u001b[39m svc\u001b[39m.\u001b[39mpredict(X_test)\n\u001b[0;32m      <a href='vscode-notebook-cell:/c%3A/Users/Max/Downloads/HW3/HW3_Instructions.ipynb#Y315sZmlsZQ%3D%3D?line=6'>7</a>\u001b[0m recall_score_svc \u001b[39m=\u001b[39m recall_score(y_test_numeric, y_pred, average\u001b[39m=\u001b[39m\u001b[39m'\u001b[39m\u001b[39mmacro\u001b[39m\u001b[39m'\u001b[39m)\n",
      "File \u001b[1;32mc:\\Users\\Max\\AppData\\Local\\Programs\\Python\\Python310\\lib\\site-packages\\sklearn\\svm\\_base.py:251\u001b[0m, in \u001b[0;36mBaseLibSVM.fit\u001b[1;34m(self, X, y, sample_weight)\u001b[0m\n\u001b[0;32m    248\u001b[0m     \u001b[39mprint\u001b[39m(\u001b[39m\"\u001b[39m\u001b[39m[LibSVM]\u001b[39m\u001b[39m\"\u001b[39m, end\u001b[39m=\u001b[39m\u001b[39m\"\u001b[39m\u001b[39m\"\u001b[39m)\n\u001b[0;32m    250\u001b[0m seed \u001b[39m=\u001b[39m rnd\u001b[39m.\u001b[39mrandint(np\u001b[39m.\u001b[39miinfo(\u001b[39m\"\u001b[39m\u001b[39mi\u001b[39m\u001b[39m\"\u001b[39m)\u001b[39m.\u001b[39mmax)\n\u001b[1;32m--> 251\u001b[0m fit(X, y, sample_weight, solver_type, kernel, random_seed\u001b[39m=\u001b[39;49mseed)\n\u001b[0;32m    252\u001b[0m \u001b[39m# see comment on the other call to np.iinfo in this file\u001b[39;00m\n\u001b[0;32m    254\u001b[0m \u001b[39mself\u001b[39m\u001b[39m.\u001b[39mshape_fit_ \u001b[39m=\u001b[39m X\u001b[39m.\u001b[39mshape \u001b[39mif\u001b[39;00m \u001b[39mhasattr\u001b[39m(X, \u001b[39m\"\u001b[39m\u001b[39mshape\u001b[39m\u001b[39m\"\u001b[39m) \u001b[39melse\u001b[39;00m (n_samples,)\n",
      "File \u001b[1;32mc:\\Users\\Max\\AppData\\Local\\Programs\\Python\\Python310\\lib\\site-packages\\sklearn\\svm\\_base.py:333\u001b[0m, in \u001b[0;36mBaseLibSVM._dense_fit\u001b[1;34m(self, X, y, sample_weight, solver_type, kernel, random_seed)\u001b[0m\n\u001b[0;32m    319\u001b[0m libsvm\u001b[39m.\u001b[39mset_verbosity_wrap(\u001b[39mself\u001b[39m\u001b[39m.\u001b[39mverbose)\n\u001b[0;32m    321\u001b[0m \u001b[39m# we don't pass **self.get_params() to allow subclasses to\u001b[39;00m\n\u001b[0;32m    322\u001b[0m \u001b[39m# add other parameters to __init__\u001b[39;00m\n\u001b[0;32m    323\u001b[0m (\n\u001b[0;32m    324\u001b[0m     \u001b[39mself\u001b[39m\u001b[39m.\u001b[39msupport_,\n\u001b[0;32m    325\u001b[0m     \u001b[39mself\u001b[39m\u001b[39m.\u001b[39msupport_vectors_,\n\u001b[0;32m    326\u001b[0m     \u001b[39mself\u001b[39m\u001b[39m.\u001b[39m_n_support,\n\u001b[0;32m    327\u001b[0m     \u001b[39mself\u001b[39m\u001b[39m.\u001b[39mdual_coef_,\n\u001b[0;32m    328\u001b[0m     \u001b[39mself\u001b[39m\u001b[39m.\u001b[39mintercept_,\n\u001b[0;32m    329\u001b[0m     \u001b[39mself\u001b[39m\u001b[39m.\u001b[39m_probA,\n\u001b[0;32m    330\u001b[0m     \u001b[39mself\u001b[39m\u001b[39m.\u001b[39m_probB,\n\u001b[0;32m    331\u001b[0m     \u001b[39mself\u001b[39m\u001b[39m.\u001b[39mfit_status_,\n\u001b[0;32m    332\u001b[0m     \u001b[39mself\u001b[39m\u001b[39m.\u001b[39m_num_iter,\n\u001b[1;32m--> 333\u001b[0m ) \u001b[39m=\u001b[39m libsvm\u001b[39m.\u001b[39;49mfit(\n\u001b[0;32m    334\u001b[0m     X,\n\u001b[0;32m    335\u001b[0m     y,\n\u001b[0;32m    336\u001b[0m     svm_type\u001b[39m=\u001b[39;49msolver_type,\n\u001b[0;32m    337\u001b[0m     sample_weight\u001b[39m=\u001b[39;49msample_weight,\n\u001b[0;32m    338\u001b[0m     class_weight\u001b[39m=\u001b[39;49m\u001b[39mself\u001b[39;49m\u001b[39m.\u001b[39;49mclass_weight_,\n\u001b[0;32m    339\u001b[0m     kernel\u001b[39m=\u001b[39;49mkernel,\n\u001b[0;32m    340\u001b[0m     C\u001b[39m=\u001b[39;49m\u001b[39mself\u001b[39;49m\u001b[39m.\u001b[39;49mC,\n\u001b[0;32m    341\u001b[0m     nu\u001b[39m=\u001b[39;49m\u001b[39mself\u001b[39;49m\u001b[39m.\u001b[39;49mnu,\n\u001b[0;32m    342\u001b[0m     probability\u001b[39m=\u001b[39;49m\u001b[39mself\u001b[39;49m\u001b[39m.\u001b[39;49mprobability,\n\u001b[0;32m    343\u001b[0m     degree\u001b[39m=\u001b[39;49m\u001b[39mself\u001b[39;49m\u001b[39m.\u001b[39;49mdegree,\n\u001b[0;32m    344\u001b[0m     shrinking\u001b[39m=\u001b[39;49m\u001b[39mself\u001b[39;49m\u001b[39m.\u001b[39;49mshrinking,\n\u001b[0;32m    345\u001b[0m     tol\u001b[39m=\u001b[39;49m\u001b[39mself\u001b[39;49m\u001b[39m.\u001b[39;49mtol,\n\u001b[0;32m    346\u001b[0m     cache_size\u001b[39m=\u001b[39;49m\u001b[39mself\u001b[39;49m\u001b[39m.\u001b[39;49mcache_size,\n\u001b[0;32m    347\u001b[0m     coef0\u001b[39m=\u001b[39;49m\u001b[39mself\u001b[39;49m\u001b[39m.\u001b[39;49mcoef0,\n\u001b[0;32m    348\u001b[0m     gamma\u001b[39m=\u001b[39;49m\u001b[39mself\u001b[39;49m\u001b[39m.\u001b[39;49m_gamma,\n\u001b[0;32m    349\u001b[0m     epsilon\u001b[39m=\u001b[39;49m\u001b[39mself\u001b[39;49m\u001b[39m.\u001b[39;49mepsilon,\n\u001b[0;32m    350\u001b[0m     max_iter\u001b[39m=\u001b[39;49m\u001b[39mself\u001b[39;49m\u001b[39m.\u001b[39;49mmax_iter,\n\u001b[0;32m    351\u001b[0m     random_seed\u001b[39m=\u001b[39;49mrandom_seed,\n\u001b[0;32m    352\u001b[0m )\n\u001b[0;32m    354\u001b[0m \u001b[39mself\u001b[39m\u001b[39m.\u001b[39m_warn_from_fit_status()\n",
      "\u001b[1;31mKeyboardInterrupt\u001b[0m: "
     ]
    }
   ],
   "source": [
    "# Subtask 2: 0.2 pt\n",
    "from sklearn.metrics import recall_score, precision_score, accuracy_score, f1_score\n",
    "svc =  SVC()\n",
    "svc.fit(X_train, y_train)\n",
    "y_pred = svc.predict(X_test)\n",
    "\n",
    "recall_score_svc = recall_score(y_test_numeric, y_pred, average='macro')\n",
    "precision_score_svc = precision_score(y_test_numeric, svc.fit(X_train, y_train_numeric).predict(X_test), average='macro')\n",
    "f1_score_svc = f1_score(y_test_numeric, svc.fit(X_train, y_train_numeric).predict(X_test), average='macro')"
   ]
  },
  {
   "cell_type": "markdown",
   "metadata": {},
   "source": [
    "Print three scores here."
   ]
  },
  {
   "cell_type": "code",
   "execution_count": null,
   "metadata": {},
   "outputs": [],
   "source": [
    "precision_score_svc, recall_score_svc, f1_score_svc"
   ]
  },
  {
   "cell_type": "markdown",
   "metadata": {},
   "source": [
    "#### Task 10: AUC / AUPRC (0.3 pt)"
   ]
  },
  {
   "cell_type": "markdown",
   "metadata": {},
   "source": [
    "You will evaluate the random forest and the support vector machine classifier with various performance measures related to the ROC curve, such as the area under the ROC curve (AUC) and rea under the precision-recall curve (AUPRC). Use the same dataset as the ones for Task 7 (`X_train_st` and `y_train_numeric`). AUPRC and AOC score also only recognize numeric labels."
   ]
  },
  {
   "cell_type": "markdown",
   "metadata": {},
   "source": [
    "- Create an instance of a random forest classifier without setting any constraint. Don't forget to set the random state to our value `RANDOM_STATE` and fit the model on the training set."
   ]
  },
  {
   "cell_type": "code",
   "execution_count": null,
   "metadata": {},
   "outputs": [],
   "source": [
    "rf_10 = RandomForestClassifier(n_estimators=10, random_state=RANDOM_STATE)"
   ]
  },
  {
   "cell_type": "markdown",
   "metadata": {},
   "source": [
    "- Print the accuracy on the test set to `accuracy_rf` (0.1 pt)."
   ]
  },
  {
   "cell_type": "code",
   "execution_count": null,
   "metadata": {},
   "outputs": [],
   "source": [
    "accuracy_rf = print('Accuracy: ', cross_val_score(rf_10, X_train, y_train_numeric, cv=5).mean())"
   ]
  },
  {
   "cell_type": "markdown",
   "metadata": {},
   "source": [
    "- Report AUC and AUPRC using the test set, and save it into the variable called *auc_rf, auprc_rf*. You can find out the information about the performance measures [here](https://scikit-learn.org/stable/modules/generated/sklearn.metrics.roc_auc_score.html#sklearn.metrics.roc_auc_score) for AUC score, and [here](https://scikit-learn.org/stable/modules/generated/sklearn.metrics.average_precision_score.html) for AUPRC score (0.2 pt). \n",
    "  - AUPRC has many names, and it is supported as *average precision score* in scikit-learn. We require you to calculate the scores using the following functions: *roc_auc_score, average_precision_score*. There is no partial point if you are correct on only some of them.\n",
    "  - You should use the probability of the predictions to calculate AUC/AUPRC.\n",
    "  - Use `weighted` average option."
   ]
  },
  {
   "cell_type": "code",
   "execution_count": null,
   "metadata": {},
   "outputs": [],
   "source": [
    "auc_rf = None # CHANGE IT\n",
    "auprc_rf = None # CHANGE IT"
   ]
  },
  {
   "cell_type": "markdown",
   "metadata": {},
   "source": [
    "Print your scores here"
   ]
  },
  {
   "cell_type": "code",
   "execution_count": null,
   "metadata": {},
   "outputs": [],
   "source": [
    "(accuracy_rf, auc_rf, auprc_rf)"
   ]
  },
  {
   "cell_type": "markdown",
   "metadata": {},
   "source": [
    "#### Task 11: Apply them together with scikit-learn (0.4 pt)"
   ]
  },
  {
   "cell_type": "markdown",
   "metadata": {},
   "source": [
    "Here you will try to apply the grid search using the performance measures you have tried on Task 5 and Task 6, and pick the best performing model in terms of specific performance measures.\n",
    "\n",
    "Our dataset is imbalanced, meaning that the healthy patient is dominant. Therefore, we can expect that the best model can be different, and we may also need to use AUPRC to get the most suitable model. \n",
    "\n",
    "Your task is as follows:\n",
    "\n",
    "1. Use the same dataset as the ones for Task 7 (`X_train_st` and `y_train_numeric`). AUPRC and AOC score also only recognize numeric labels.\n",
    "2. Create an instance of a kNN classifier without setting any constraint. \n",
    "3. Run grid search with a dictionary - here you need to search the number of neighbors for kNN from 1 to 10 (included), and use two different scoring measures: AUC and recall. **Do not specify any average option.**\n",
    "4. Put the best classifiers into the respective variable called *auc_best_classifier* and *recall_best_classifier*. Set cv=5 for grid search cross-validation. "
   ]
  },
  {
   "cell_type": "markdown",
   "metadata": {},
   "source": [
    "If you complete the method, you can run the following line to check whether your functions are correct or not. Note that we will evaluate your functions with different data, so be careful to implement them."
   ]
  },
  {
   "cell_type": "code",
   "execution_count": null,
   "metadata": {},
   "outputs": [],
   "source": [
    "auc_best_classifier = None # CHANGE IT\n",
    "recall_best_classifier = None # CHANGE IT"
   ]
  },
  {
   "cell_type": "markdown",
   "metadata": {},
   "source": [
    "Check your scores here!"
   ]
  },
  {
   "cell_type": "code",
   "execution_count": null,
   "metadata": {},
   "outputs": [],
   "source": [
    "(auc_best_classifier, recall_best_classifier)"
   ]
  },
  {
   "cell_type": "markdown",
   "metadata": {},
   "source": [
    "#### Task 12: Task 5 implementation (0.8 pt)"
   ]
  },
  {
   "cell_type": "markdown",
   "metadata": {},
   "source": [
    "This task requires you to implement the following performance measures:\n",
    " - Accuracy (0.2 pt)\n",
    " - Precision (0.2 pt)\n",
    " - Recall (0.2 pt)\n",
    " - F1-score (0.2 pt)\n",
    " \n",
    "All inputs will be the NumPy arrays, so you can use any NumPy array methods to calculate the scores.\n",
    "  - Scikit-learn methods are not allowed\n",
    "  - Looping the list is not allowed\n",
    "  - Copying materials from internet is completely prohibited\n",
    "\n",
    "For Precision, Recall, and F1, we want you to calculate `macro` average. Read more about it [here](https://tomaxent.com/2018/04/27/Micro-and-Macro-average-of-Precision-Recall-and-F-Score/). You can always validate your method by comparing the result to the one from scikit-learn."
   ]
  },
  {
   "cell_type": "code",
   "execution_count": null,
   "metadata": {},
   "outputs": [],
   "source": [
    "def accuracy_manual(truth, predicted):\n",
    "    return None # CHANGE IT"
   ]
  },
  {
   "cell_type": "code",
   "execution_count": null,
   "metadata": {},
   "outputs": [],
   "source": [
    "def precision_manual(truth, predicted):\n",
    "    return None # CHANGE IT"
   ]
  },
  {
   "cell_type": "code",
   "execution_count": null,
   "metadata": {},
   "outputs": [],
   "source": [
    "def recall_manual(truth, predicted):\n",
    "    return None # CHANGE IT"
   ]
  },
  {
   "cell_type": "code",
   "execution_count": null,
   "metadata": {},
   "outputs": [],
   "source": [
    "def f1_score_manual(truth, predicted):\n",
    "    return None # CHANGE IT"
   ]
  },
  {
   "cell_type": "markdown",
   "metadata": {},
   "source": [
    "Assign the results of your four function on two arrays (`truth`, `predicted`)."
   ]
  },
  {
   "cell_type": "code",
   "execution_count": null,
   "metadata": {},
   "outputs": [],
   "source": [
    "truth     = np.array([1,0,0,0,1,1,1,0,0,1,1,0,0,1,1])\n",
    "predicted = np.array([1,0,1,0,1,1,0,1,1,0,1,1,1,0,1])"
   ]
  },
  {
   "cell_type": "code",
   "execution_count": null,
   "metadata": {},
   "outputs": [],
   "source": [
    "accuracy_score_manual = None # CHANGE IT\n",
    "precision_score_manual = None # CHANGE IT\n",
    "recall_score_manual = None # CHANGE IT\n",
    "f1_score_manual = None # CHANGE IT"
   ]
  },
  {
   "cell_type": "markdown",
   "metadata": {},
   "source": [
    "Show your results here!"
   ]
  },
  {
   "cell_type": "code",
   "execution_count": null,
   "metadata": {},
   "outputs": [],
   "source": [
    "(accuracy_score_manual, precision_score_manual, recall_score_manual, f1_score_manual)"
   ]
  },
  {
   "cell_type": "markdown",
   "metadata": {},
   "source": [
    "# 3. Deployment"
   ]
  },
  {
   "cell_type": "markdown",
   "metadata": {},
   "source": [
    "**Task 13: Save models into a file using pickle (0.3 pt)**"
   ]
  },
  {
   "cell_type": "markdown",
   "metadata": {},
   "source": [
    "In this task, you need to pick the best model using cross-validation and deploy it as a pickle file. For this task, we will use the diabetes data that we used for Homework 1. This dataset is originally from the National Institute of Diabetes and Digestive and Kidney Diseases. The objective of the dataset is to diagnostically predict whether or not a patient has diabetes, based on certain diagnostic measurements included in the dataset. Several constraints were placed on the selection of these instances from a larger database. In particular, all patients here are females at least 21 years old of Pima Indian heritage. You can find it in the homework folder.\n",
    "\n",
    "- Load the dataset into `diabetes`."
   ]
  },
  {
   "cell_type": "code",
   "execution_count": null,
   "metadata": {},
   "outputs": [],
   "source": [
    "diabetes = pd.read_csv(\"datasets/diabetes.csv\")"
   ]
  },
  {
   "cell_type": "code",
   "execution_count": null,
   "metadata": {},
   "outputs": [],
   "source": [
    "diabetes.head()"
   ]
  },
  {
   "cell_type": "markdown",
   "metadata": {},
   "source": [
    "- Split the dataset into two parts: attributes (`X`) and labels (Outcome, `y`)."
   ]
  },
  {
   "cell_type": "code",
   "execution_count": null,
   "metadata": {},
   "outputs": [],
   "source": [
    "X = None # CHANGE IT\n",
    "y = None # CHANGE IT"
   ]
  },
  {
   "cell_type": "markdown",
   "metadata": {},
   "source": [
    "Your task is as follows:\n",
    "\n",
    "1. Create an instance of an SVC classifier without setting any constraint.\n",
    "2. Run grid search with a list of two dictionaries. In the first dictionary, you should examine 'poly' kernel, with degree = [2, 3, 4]. In the second dictionary, you should test two kernels ['linear', 'rbf'] with a list of C values [10, 100]. Use **AUPRC** as its scoring measure. Set cv=5 for grid search cross-validation. Since grid search uses stratified k-fold inside, you should put the complete dataset.\n",
    "3. Save the best classifier into the variable called `svm_best_classifier_2` and save the trained model into `model_diabetes.pickle` using pickle. When saving your model, do not specify any folder.\n",
    " - **Do not use your own specific name for the model!**"
   ]
  },
  {
   "cell_type": "code",
   "execution_count": null,
   "metadata": {},
   "outputs": [],
   "source": [
    "svm_best_classifier_2 = None # CHANGE IT"
   ]
  },
  {
   "cell_type": "markdown",
   "metadata": {},
   "source": [
    "Show your classifier here!"
   ]
  },
  {
   "cell_type": "code",
   "execution_count": null,
   "metadata": {},
   "outputs": [],
   "source": [
    "svm_best_classifier_2"
   ]
  },
  {
   "cell_type": "markdown",
   "metadata": {},
   "source": [
    "**Task 14: DASH deployment (0.3 pt)**"
   ]
  },
  {
   "cell_type": "markdown",
   "metadata": {},
   "source": [
    "You will run DASH application by using the model `model_diabetes.pickle` you exported with the project files in the `webplatform_dash` folder. Locate the model in the same folder with this jupeter notebook, and go into `webplatform_dash` folder. There you can run your own DASH application as you learned from Lab 5. Note that you should **not** move the model file into `webplatform_dash`.\n",
    "\n",
    "- Submit a screenshot with your model file into one zip file in a separate submission form for your DASH project. For the details of the DASH deployment, check out Lab 5."
   ]
  }
 ],
 "metadata": {
  "kernelspec": {
   "display_name": "Python 3.10.6 64-bit",
   "language": "python",
   "name": "python3"
  },
  "language_info": {
   "codemirror_mode": {
    "name": "ipython",
    "version": 3
   },
   "file_extension": ".py",
   "mimetype": "text/x-python",
   "name": "python",
   "nbconvert_exporter": "python",
   "pygments_lexer": "ipython3",
   "version": "3.10.6"
  },
  "vscode": {
   "interpreter": {
    "hash": "28b06ec166af8c83e5882731fef908354c2d57d9b46df793dcdb4efcedb4ca54"
   }
  }
 },
 "nbformat": 4,
 "nbformat_minor": 4
}
